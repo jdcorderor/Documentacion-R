{
 "cells": [
  {
   "cell_type": "markdown",
   "id": "b8c47192-bf7f-4334-8325-493c8744d278",
   "metadata": {},
   "source": [
    "# Documentación de R\n",
    "#### R es un lenguaje de programación abierto, orientado a la computación estadística y a la representación gráfica de datos. Fue desarrollado en 1993 por Robert Gentleman y Ross Ihaka, en el Departamento de Estadística de la Universidad de Auckland, en Nueva Zelanda. Es un lenguaje de gran utilidad en el análisis de datos, la ciencia de datos y el aprendizaje automático. Asimismo, ofrece la posibilidad de representar datos gráficamente, a partir de histogramas, diagramas de caja y bigote y gráficas de dispersión. En definitiva, R es un lenguaje de programación orientado al análisis estadístico de datos.\n",
    "## Función print()\n",
    "#### En R, a diferencia de múltiples lenguajes de programación (como Python, Java, JavaScript y Go), es posible mostrar datos por consola sin el uso estricto de una función print()."
   ]
  },
  {
   "cell_type": "code",
   "execution_count": 83,
   "id": "5198f079-80dc-4f40-a065-66ff5985fd6c",
   "metadata": {},
   "outputs": [
    {
     "name": "stdout",
     "output_type": "stream",
     "text": [
      "[1] \"Hola Mundo!\"\n"
     ]
    }
   ],
   "source": [
    "print(\"Hola Mundo!\")"
   ]
  },
  {
   "cell_type": "markdown",
   "id": "6b924469-dc9c-4012-addc-2d96c90aab17",
   "metadata": {},
   "source": [
    "En este caso, muestra \"Hola Mundo!\" por consola, a través de la función print()."
   ]
  },
  {
   "cell_type": "code",
   "execution_count": 86,
   "id": "a6a06a95-cec2-4583-b13a-1d8de6260d32",
   "metadata": {},
   "outputs": [
    {
     "data": {
      "text/html": [
       "'Hola Mundo!'"
      ],
      "text/latex": [
       "'Hola Mundo!'"
      ],
      "text/markdown": [
       "'Hola Mundo!'"
      ],
      "text/plain": [
       "[1] \"Hola Mundo!\""
      ]
     },
     "metadata": {},
     "output_type": "display_data"
    }
   ],
   "source": [
    "\"Hola Mundo!\""
   ]
  },
  {
   "cell_type": "markdown",
   "id": "a460f4cb-ae26-4928-a969-3038eeb1e275",
   "metadata": {},
   "source": [
    "En este caso, muestra \"Hola Mundo!\" por consola, sin el uso de la función print().\n",
    "## Comentarios en R\n",
    "#### R no permite incorporar comentarios de múltiples líneas. Los comentarios inician con un '#', de la siguiente forma: "
   ]
  },
  {
   "cell_type": "code",
   "execution_count": 89,
   "id": "14c01698-8fae-48ba-b5bf-08f6b0af8da1",
   "metadata": {},
   "outputs": [],
   "source": [
    "# Este es un comentario."
   ]
  },
  {
   "cell_type": "markdown",
   "id": "958a65a9-4562-4863-8268-6ac26f5c9ba3",
   "metadata": {},
   "source": [
    "## Variables en R\n",
    "#### R no tiene un comando para declarar variables. Por lo tanto, una variable es creada en el momento en que es inicializada. La inicialización de variables en R se ejecuta mediante el signo '<-', a través de la siguiente sintaxis:"
   ]
  },
  {
   "cell_type": "code",
   "execution_count": 92,
   "id": "7a121977-d493-4554-bb3f-0bf1984723d7",
   "metadata": {},
   "outputs": [
    {
     "data": {
      "text/html": [
       "'Juan'"
      ],
      "text/latex": [
       "'Juan'"
      ],
      "text/markdown": [
       "'Juan'"
      ],
      "text/plain": [
       "[1] \"Juan\""
      ]
     },
     "metadata": {},
     "output_type": "display_data"
    },
    {
     "data": {
      "text/html": [
       "19"
      ],
      "text/latex": [
       "19"
      ],
      "text/markdown": [
       "19"
      ],
      "text/plain": [
       "[1] 19"
      ]
     },
     "metadata": {},
     "output_type": "display_data"
    }
   ],
   "source": [
    "nombre <- \"Juan\"\n",
    "edad <- 19\n",
    "\n",
    "# Mostramos por consola los valores asignados a las variables 'nombre' y 'edad':\n",
    "nombre # 'Juan'\n",
    "edad # 19"
   ]
  },
  {
   "cell_type": "markdown",
   "id": "dfbc9216-e769-4b68-a4c1-0fcf20df6a75",
   "metadata": {},
   "source": [
    "### Concatenación de Elementos\n",
    "##### En R es posible concatenar dos elementos a través de la función paste(). "
   ]
  },
  {
   "cell_type": "code",
   "execution_count": 95,
   "id": "4818993f-6e7a-450b-a4c2-833c3d1c28fe",
   "metadata": {},
   "outputs": [
    {
     "data": {
      "text/html": [
       "'Juan tiene 19 años'"
      ],
      "text/latex": [
       "'Juan tiene 19 años'"
      ],
      "text/markdown": [
       "'Juan tiene 19 años'"
      ],
      "text/plain": [
       "[1] \"Juan tiene 19 años\""
      ]
     },
     "metadata": {},
     "output_type": "display_data"
    }
   ],
   "source": [
    "# Sintaxis: paste(elemento1, elemento2, ...).\n",
    "\n",
    "paste(nombre, \"tiene\", edad, \"años\")"
   ]
  },
  {
   "cell_type": "markdown",
   "id": "35b58f6d-2f0c-4167-8576-790785f12f23",
   "metadata": {},
   "source": [
    "### Inicialización Múltiple\n",
    "##### R admite la inicialización de múltiples variables en una línea de código, asignando el mismo valor a cada una de ellas."
   ]
  },
  {
   "cell_type": "code",
   "execution_count": 98,
   "id": "1187de14-8b56-4646-bece-fc8eedd32f6e",
   "metadata": {},
   "outputs": [
    {
     "data": {
      "text/html": [
       "1"
      ],
      "text/latex": [
       "1"
      ],
      "text/markdown": [
       "1"
      ],
      "text/plain": [
       "[1] 1"
      ]
     },
     "metadata": {},
     "output_type": "display_data"
    },
    {
     "data": {
      "text/html": [
       "1"
      ],
      "text/latex": [
       "1"
      ],
      "text/markdown": [
       "1"
      ],
      "text/plain": [
       "[1] 1"
      ]
     },
     "metadata": {},
     "output_type": "display_data"
    },
    {
     "data": {
      "text/html": [
       "1"
      ],
      "text/latex": [
       "1"
      ],
      "text/markdown": [
       "1"
      ],
      "text/plain": [
       "[1] 1"
      ]
     },
     "metadata": {},
     "output_type": "display_data"
    }
   ],
   "source": [
    "# Sintaxis: variable1 <- variable2 ... <- valor.\n",
    "\n",
    "var1 <- var2 <- var3 <- 1\n",
    "\n",
    "var1\n",
    "var2\n",
    "var3"
   ]
  },
  {
   "cell_type": "markdown",
   "id": "47135ee8-18d0-4d61-a35b-d7e3ef6f0a7f",
   "metadata": {},
   "source": [
    "### Identificadores de Variables\n",
    "##### En R, los nombres de variables deben iniciar con una letra, o un punto (.) seguido de una letra. No se admite el uso de palabras reservadas (TRUE, FALSE, NULL, if...) como identificadores."
   ]
  },
  {
   "cell_type": "code",
   "execution_count": 101,
   "id": "5d42ef68-94d9-4b5a-a553-dda92033a920",
   "metadata": {},
   "outputs": [],
   "source": [
    "# Idenfiticadores admitidos:\n",
    "miVariable <- 1\n",
    ".miVariable <- 2\n",
    "MiVariable <- 3\n",
    "\n",
    "# Identificadores no admitidos:\n",
    "# 1variable, TRUE, _variable, mi variable, @variable..."
   ]
  },
  {
   "cell_type": "markdown",
   "id": "39c58b35-83c8-43fc-b3d8-eacee83a20da",
   "metadata": {},
   "source": [
    "## Tipos de Datos en R\n",
    "#### En R no es necesario especificar el tipo de dato de una variable. En realidad, puede modificarse el tipo de dato que almacena una variable en tiempo de ejecución, lo que le confiere a R la característica de tipado dinámico."
   ]
  },
  {
   "cell_type": "code",
   "execution_count": 104,
   "id": "c57435c3-88a5-4853-81c8-645d7ce28135",
   "metadata": {},
   "outputs": [
    {
     "data": {
      "text/html": [
       "'Hola Mundo!'"
      ],
      "text/latex": [
       "'Hola Mundo!'"
      ],
      "text/markdown": [
       "'Hola Mundo!'"
      ],
      "text/plain": [
       "[1] \"Hola Mundo!\""
      ]
     },
     "metadata": {},
     "output_type": "display_data"
    },
    {
     "data": {
      "text/html": [
       "100"
      ],
      "text/latex": [
       "100"
      ],
      "text/markdown": [
       "100"
      ],
      "text/plain": [
       "[1] 100"
      ]
     },
     "metadata": {},
     "output_type": "display_data"
    }
   ],
   "source": [
    "variable <- \"Hola Mundo!\"\n",
    "variable\n",
    "\n",
    "variable <- 100\n",
    "variable"
   ]
  },
  {
   "cell_type": "markdown",
   "id": "9a094ea2-c2c5-4106-97b4-5e6fe2749d60",
   "metadata": {},
   "source": [
    "Inicialmente, 'variable' almacena una cadena de caracteres. Luego, se le asignó un número entero, es decir, un tipo de dato numérico.\n",
    "### Tipos de Datos Básicos\n",
    "La función class() nos permite verificar el tipo de dato que almacena una variable.\n",
    "#### Numéricos ('numeric'): Datos numéricos con o sin decimales."
   ]
  },
  {
   "cell_type": "code",
   "execution_count": 107,
   "id": "2b11c2a2-af7a-4568-b62c-02745c1c9ee5",
   "metadata": {},
   "outputs": [
    {
     "data": {
      "text/html": [
       "'numeric'"
      ],
      "text/latex": [
       "'numeric'"
      ],
      "text/markdown": [
       "'numeric'"
      ],
      "text/plain": [
       "[1] \"numeric\""
      ]
     },
     "metadata": {},
     "output_type": "display_data"
    },
    {
     "data": {
      "text/html": [
       "'numeric'"
      ],
      "text/latex": [
       "'numeric'"
      ],
      "text/markdown": [
       "'numeric'"
      ],
      "text/plain": [
       "[1] \"numeric\""
      ]
     },
     "metadata": {},
     "output_type": "display_data"
    },
    {
     "data": {
      "text/html": [
       "'numeric'"
      ],
      "text/latex": [
       "'numeric'"
      ],
      "text/markdown": [
       "'numeric'"
      ],
      "text/plain": [
       "[1] \"numeric\""
      ]
     },
     "metadata": {},
     "output_type": "display_data"
    }
   ],
   "source": [
    "v1 <- 10\n",
    "class(v1)\n",
    "\n",
    "v2 <- 5.5\n",
    "class(v2)\n",
    "\n",
    "v3 <- -12.43\n",
    "class(v3)"
   ]
  },
  {
   "cell_type": "markdown",
   "id": "08a0dacc-1262-4d78-af40-46e78fab0432",
   "metadata": {},
   "source": [
    "#### Enteros ('integer'): Datos numéricos sin decimales.\n",
    "Requiere adicionar la letra 'L' al finalizar el número, para indicar que se trata de un tipo de dato entero."
   ]
  },
  {
   "cell_type": "code",
   "execution_count": 110,
   "id": "fdcad158-90e9-4bd5-92fa-8710cf384ca9",
   "metadata": {},
   "outputs": [
    {
     "data": {
      "text/html": [
       "'integer'"
      ],
      "text/latex": [
       "'integer'"
      ],
      "text/markdown": [
       "'integer'"
      ],
      "text/plain": [
       "[1] \"integer\""
      ]
     },
     "metadata": {},
     "output_type": "display_data"
    },
    {
     "data": {
      "text/html": [
       "'integer'"
      ],
      "text/latex": [
       "'integer'"
      ],
      "text/markdown": [
       "'integer'"
      ],
      "text/plain": [
       "[1] \"integer\""
      ]
     },
     "metadata": {},
     "output_type": "display_data"
    }
   ],
   "source": [
    "v1 <- 5L\n",
    "class(v1)\n",
    "\n",
    "v2 <- -5L\n",
    "class(v2)"
   ]
  },
  {
   "cell_type": "markdown",
   "id": "aed4428b-3afb-4f34-b06f-8bce0e515af6",
   "metadata": {},
   "source": [
    "#### Complejos ('complex'): Datos numéricos con un componente real y un componente imaginario.\n",
    "Requiere de una parte imaginaria representada por un coeficiente, seguido de la letra 'i'."
   ]
  },
  {
   "cell_type": "code",
   "execution_count": 113,
   "id": "282c8bb9-4251-42c5-ad1a-706c93851784",
   "metadata": {},
   "outputs": [
    {
     "data": {
      "text/html": [
       "'complex'"
      ],
      "text/latex": [
       "'complex'"
      ],
      "text/markdown": [
       "'complex'"
      ],
      "text/plain": [
       "[1] \"complex\""
      ]
     },
     "metadata": {},
     "output_type": "display_data"
    },
    {
     "data": {
      "text/html": [
       "'complex'"
      ],
      "text/latex": [
       "'complex'"
      ],
      "text/markdown": [
       "'complex'"
      ],
      "text/plain": [
       "[1] \"complex\""
      ]
     },
     "metadata": {},
     "output_type": "display_data"
    }
   ],
   "source": [
    "c1 <- 9 + 5i\n",
    "class(c1)\n",
    "\n",
    "c2 <- -9 - 5i\n",
    "class(c2)"
   ]
  },
  {
   "cell_type": "markdown",
   "id": "1c45c1a4-468a-4511-ab90-0aaaab2be35c",
   "metadata": {},
   "source": [
    "#### String ('character'): Cadena de Caracteres.\n",
    "Requiere que el valor a asignar sea escrito entre comillas simples ('...') o dobles (\"...\")."
   ]
  },
  {
   "cell_type": "code",
   "execution_count": 116,
   "id": "6afff21c-7792-4621-9a06-c506b04e5097",
   "metadata": {},
   "outputs": [
    {
     "data": {
      "text/html": [
       "'character'"
      ],
      "text/latex": [
       "'character'"
      ],
      "text/markdown": [
       "'character'"
      ],
      "text/plain": [
       "[1] \"character\""
      ]
     },
     "metadata": {},
     "output_type": "display_data"
    },
    {
     "data": {
      "text/html": [
       "'character'"
      ],
      "text/latex": [
       "'character'"
      ],
      "text/markdown": [
       "'character'"
      ],
      "text/plain": [
       "[1] \"character\""
      ]
     },
     "metadata": {},
     "output_type": "display_data"
    }
   ],
   "source": [
    "s1 <- 'Juan Diego'\n",
    "class(s1)\n",
    "\n",
    "s2 <- \"FALSE\"\n",
    "class(s2)"
   ]
  },
  {
   "cell_type": "markdown",
   "id": "9a4a55dd-e344-4ee1-97fe-df3e18b7c35b",
   "metadata": {},
   "source": [
    "#### Booleanos ('logical'): Valores de verdad.\n",
    "Puede asumir dos valores, TRUE (verdadero) o FALSE (falso)."
   ]
  },
  {
   "cell_type": "code",
   "execution_count": 119,
   "id": "16a19a64-5d98-42af-835d-247f0f7015bc",
   "metadata": {},
   "outputs": [
    {
     "data": {
      "text/html": [
       "'logical'"
      ],
      "text/latex": [
       "'logical'"
      ],
      "text/markdown": [
       "'logical'"
      ],
      "text/plain": [
       "[1] \"logical\""
      ]
     },
     "metadata": {},
     "output_type": "display_data"
    },
    {
     "data": {
      "text/html": [
       "'logical'"
      ],
      "text/latex": [
       "'logical'"
      ],
      "text/markdown": [
       "'logical'"
      ],
      "text/plain": [
       "[1] \"logical\""
      ]
     },
     "metadata": {},
     "output_type": "display_data"
    }
   ],
   "source": [
    "b1 <- TRUE\n",
    "class(b1)\n",
    "\n",
    "b2 <- FALSE\n",
    "class(b2)"
   ]
  },
  {
   "cell_type": "markdown",
   "id": "02d45cd7-cf25-4914-99ea-818536ef100a",
   "metadata": {},
   "source": [
    "### Conversión de Tipos de Datos: as.numeric(), as.integer(), as.complex()\n",
    "En R, es posible convertir tipos de datos numéricos de la siguiente forma:"
   ]
  },
  {
   "cell_type": "code",
   "execution_count": 122,
   "id": "f3a2dfd3-f137-4d5a-adbc-90725204a79d",
   "metadata": {},
   "outputs": [
    {
     "data": {
      "text/html": [
       "'numeric'"
      ],
      "text/latex": [
       "'numeric'"
      ],
      "text/markdown": [
       "'numeric'"
      ],
      "text/plain": [
       "[1] \"numeric\""
      ]
     },
     "metadata": {},
     "output_type": "display_data"
    },
    {
     "data": {
      "text/html": [
       "'integer'"
      ],
      "text/latex": [
       "'integer'"
      ],
      "text/markdown": [
       "'integer'"
      ],
      "text/plain": [
       "[1] \"integer\""
      ]
     },
     "metadata": {},
     "output_type": "display_data"
    }
   ],
   "source": [
    "x <- 1L # 'integer'\n",
    "y <- 2 # 'numeric'\n",
    "\n",
    "# Convertimos de 'integer' a 'numeric'.\n",
    "a <- as.numeric(x)\n",
    "\n",
    "# Convertimos de 'numeric' a 'integer'.\n",
    "b <- as.integer(y)\n",
    "\n",
    "class(a)\n",
    "class(b)"
   ]
  },
  {
   "cell_type": "markdown",
   "id": "c9b28cd0-8661-4627-b05a-dc453d887400",
   "metadata": {},
   "source": [
    "## Operadores Matemáticos en R\n",
    "#### En R existen múltiples operadores matemáticos, que permiten ejecutar diferentes operaciones (suma, resta, multiplicación, ...). "
   ]
  },
  {
   "cell_type": "code",
   "execution_count": 125,
   "id": "e7ffd96e-0e2c-4007-bd23-c2fc7451cacd",
   "metadata": {},
   "outputs": [
    {
     "data": {
      "text/html": [
       "'Suma: 7'"
      ],
      "text/latex": [
       "'Suma: 7'"
      ],
      "text/markdown": [
       "'Suma: 7'"
      ],
      "text/plain": [
       "[1] \"Suma: 7\""
      ]
     },
     "metadata": {},
     "output_type": "display_data"
    },
    {
     "data": {
      "text/html": [
       "'Resta: 3'"
      ],
      "text/latex": [
       "'Resta: 3'"
      ],
      "text/markdown": [
       "'Resta: 3'"
      ],
      "text/plain": [
       "[1] \"Resta: 3\""
      ]
     },
     "metadata": {},
     "output_type": "display_data"
    },
    {
     "data": {
      "text/html": [
       "'Multiplicación: 10'"
      ],
      "text/latex": [
       "'Multiplicación: 10'"
      ],
      "text/markdown": [
       "'Multiplicación: 10'"
      ],
      "text/plain": [
       "[1] \"Multiplicación: 10\""
      ]
     },
     "metadata": {},
     "output_type": "display_data"
    },
    {
     "data": {
      "text/html": [
       "'División: 2.5'"
      ],
      "text/latex": [
       "'División: 2.5'"
      ],
      "text/markdown": [
       "'División: 2.5'"
      ],
      "text/plain": [
       "[1] \"División: 2.5\""
      ]
     },
     "metadata": {},
     "output_type": "display_data"
    },
    {
     "data": {
      "text/html": [
       "'Potenciación: 25'"
      ],
      "text/latex": [
       "'Potenciación: 25'"
      ],
      "text/markdown": [
       "'Potenciación: 25'"
      ],
      "text/plain": [
       "[1] \"Potenciación: 25\""
      ]
     },
     "metadata": {},
     "output_type": "display_data"
    },
    {
     "data": {
      "text/html": [
       "'Módulo: 1'"
      ],
      "text/latex": [
       "'Módulo: 1'"
      ],
      "text/markdown": [
       "'Módulo: 1'"
      ],
      "text/plain": [
       "[1] \"Módulo: 1\""
      ]
     },
     "metadata": {},
     "output_type": "display_data"
    },
    {
     "data": {
      "text/html": [
       "'División Entera: 2'"
      ],
      "text/latex": [
       "'División Entera: 2'"
      ],
      "text/markdown": [
       "'División Entera: 2'"
      ],
      "text/plain": [
       "[1] \"División Entera: 2\""
      ]
     },
     "metadata": {},
     "output_type": "display_data"
    }
   ],
   "source": [
    "# Suma (+):\n",
    "paste(\"Suma:\", 5 + 2)\n",
    "\n",
    "# Sustracción (-):\n",
    "paste(\"Resta:\", 5 - 2)\n",
    "\n",
    "# Multiplicación (*):\n",
    "paste(\"Multiplicación:\", 5 * 2)\n",
    "\n",
    "# División (/):\n",
    "paste(\"División:\", 5 / 2)\n",
    "\n",
    "# Potenciación (^):\n",
    "paste(\"Potenciación:\", 5 ^ 2)\n",
    "\n",
    "# Módulo, residuo de la división entera (%%):\n",
    "paste(\"Módulo:\", 5 %% 2)\n",
    "\n",
    "# División Entera (%/%):\n",
    "paste(\"División Entera:\", 5 %/% 2)"
   ]
  },
  {
   "cell_type": "markdown",
   "id": "78610d65-bb26-4da2-9016-a9adcb0475ea",
   "metadata": {},
   "source": [
    "## Operadores Relacionales en R\n",
    "#### En R existen múltiples operadores relacionales, que permiten comparar dos valores, retornando un valor de verdad (logical)."
   ]
  },
  {
   "cell_type": "code",
   "execution_count": 128,
   "id": "d3555863-dfe8-4629-afb3-d9b956eeb553",
   "metadata": {},
   "outputs": [
    {
     "data": {
      "text/html": [
       "FALSE"
      ],
      "text/latex": [
       "FALSE"
      ],
      "text/markdown": [
       "FALSE"
      ],
      "text/plain": [
       "[1] FALSE"
      ]
     },
     "metadata": {},
     "output_type": "display_data"
    },
    {
     "data": {
      "text/html": [
       "TRUE"
      ],
      "text/latex": [
       "TRUE"
      ],
      "text/markdown": [
       "TRUE"
      ],
      "text/plain": [
       "[1] TRUE"
      ]
     },
     "metadata": {},
     "output_type": "display_data"
    },
    {
     "data": {
      "text/html": [
       "TRUE"
      ],
      "text/latex": [
       "TRUE"
      ],
      "text/markdown": [
       "TRUE"
      ],
      "text/plain": [
       "[1] TRUE"
      ]
     },
     "metadata": {},
     "output_type": "display_data"
    },
    {
     "data": {
      "text/html": [
       "FALSE"
      ],
      "text/latex": [
       "FALSE"
      ],
      "text/markdown": [
       "FALSE"
      ],
      "text/plain": [
       "[1] FALSE"
      ]
     },
     "metadata": {},
     "output_type": "display_data"
    },
    {
     "data": {
      "text/html": [
       "TRUE"
      ],
      "text/latex": [
       "TRUE"
      ],
      "text/markdown": [
       "TRUE"
      ],
      "text/plain": [
       "[1] TRUE"
      ]
     },
     "metadata": {},
     "output_type": "display_data"
    },
    {
     "data": {
      "text/html": [
       "FALSE"
      ],
      "text/latex": [
       "FALSE"
      ],
      "text/markdown": [
       "FALSE"
      ],
      "text/plain": [
       "[1] FALSE"
      ]
     },
     "metadata": {},
     "output_type": "display_data"
    }
   ],
   "source": [
    "# Igual que (==):\n",
    "5 == 2 # FALSE\n",
    "\n",
    "# Diferente que (!=):\n",
    "5 != 2 # TRUE\n",
    "\n",
    "# Mayor que (>):\n",
    "5 > 2 # TRUE\n",
    "\n",
    "# Menor que (<):\n",
    "5 < 2 # FALSE\n",
    "\n",
    "# Mayor o igual que (>=):\n",
    "5 >= 2 # TRUE\n",
    "\n",
    "# Menor o igual que (<=):\n",
    "5 <= 2 # FALSE"
   ]
  },
  {
   "cell_type": "markdown",
   "id": "ac541507-df6e-4225-833b-720e99a17892",
   "metadata": {},
   "source": [
    "## Operadores Lógicos en R\n",
    "#### En R existen múltiples operadores lógicos, que permiten comparar dos valores booleanos, retornando otro valor booleano según las tablas de verdad."
   ]
  },
  {
   "cell_type": "code",
   "execution_count": 131,
   "id": "1f5ed8b0-086f-44df-9854-f87e01d26a9b",
   "metadata": {},
   "outputs": [
    {
     "data": {
      "text/html": [
       "FALSE"
      ],
      "text/latex": [
       "FALSE"
      ],
      "text/markdown": [
       "FALSE"
      ],
      "text/plain": [
       "[1] FALSE"
      ]
     },
     "metadata": {},
     "output_type": "display_data"
    },
    {
     "data": {
      "text/html": [
       "TRUE"
      ],
      "text/latex": [
       "TRUE"
      ],
      "text/markdown": [
       "TRUE"
      ],
      "text/plain": [
       "[1] TRUE"
      ]
     },
     "metadata": {},
     "output_type": "display_data"
    },
    {
     "data": {
      "text/html": [
       "TRUE"
      ],
      "text/latex": [
       "TRUE"
      ],
      "text/markdown": [
       "TRUE"
      ],
      "text/plain": [
       "[1] TRUE"
      ]
     },
     "metadata": {},
     "output_type": "display_data"
    }
   ],
   "source": [
    "# AND (&, &&): Retorna TRUE si ambos elementos son TRUE.\n",
    "5 == 2 && 5 != 2 # FALSE\n",
    "\n",
    "# OR (|, ||): Retorna TRUE si al menos uno de los elementos es TRUE.\n",
    "5 != 2 | 5 <= 2 # TRUE\n",
    "\n",
    "# NOT (!): Retorna FALSE si el elemento es TRUE, y viceversa.\n",
    "!(5 == 2) # TRUE"
   ]
  },
  {
   "cell_type": "markdown",
   "id": "3cd81854-4c3c-478a-b5db-29ee98497466",
   "metadata": {},
   "source": [
    "## Operadores Misceláneos en R\n",
    "#### En R existen otros tipos de operadores, empleados en la manipulación de datos."
   ]
  },
  {
   "cell_type": "code",
   "execution_count": 134,
   "id": "140551f1-3da7-4eb7-b787-0d62739f2e1b",
   "metadata": {},
   "outputs": [
    {
     "data": {
      "text/html": [
       "<style>\n",
       ".list-inline {list-style: none; margin:0; padding: 0}\n",
       ".list-inline>li {display: inline-block}\n",
       ".list-inline>li:not(:last-child)::after {content: \"\\00b7\"; padding: 0 .5ex}\n",
       "</style>\n",
       "<ol class=list-inline><li>1</li><li>2</li><li>3</li><li>4</li><li>5</li><li>6</li><li>7</li><li>8</li><li>9</li><li>10</li></ol>\n"
      ],
      "text/latex": [
       "\\begin{enumerate*}\n",
       "\\item 1\n",
       "\\item 2\n",
       "\\item 3\n",
       "\\item 4\n",
       "\\item 5\n",
       "\\item 6\n",
       "\\item 7\n",
       "\\item 8\n",
       "\\item 9\n",
       "\\item 10\n",
       "\\end{enumerate*}\n"
      ],
      "text/markdown": [
       "1. 1\n",
       "2. 2\n",
       "3. 3\n",
       "4. 4\n",
       "5. 5\n",
       "6. 6\n",
       "7. 7\n",
       "8. 8\n",
       "9. 9\n",
       "10. 10\n",
       "\n",
       "\n"
      ],
      "text/plain": [
       " [1]  1  2  3  4  5  6  7  8  9 10"
      ]
     },
     "metadata": {},
     "output_type": "display_data"
    },
    {
     "data": {
      "text/html": [
       "TRUE"
      ],
      "text/latex": [
       "TRUE"
      ],
      "text/markdown": [
       "TRUE"
      ],
      "text/plain": [
       "[1] TRUE"
      ]
     },
     "metadata": {},
     "output_type": "display_data"
    },
    {
     "data": {
      "text/html": [
       "FALSE"
      ],
      "text/latex": [
       "FALSE"
      ],
      "text/markdown": [
       "FALSE"
      ],
      "text/plain": [
       "[1] FALSE"
      ]
     },
     "metadata": {},
     "output_type": "display_data"
    },
    {
     "data": {
      "text/html": [
       "<table class=\"dataframe\">\n",
       "<caption>A matrix: 2 × 2 of type dbl</caption>\n",
       "<tbody>\n",
       "\t<tr><td> 76</td><td>103</td></tr>\n",
       "\t<tr><td>100</td><td>136</td></tr>\n",
       "</tbody>\n",
       "</table>\n"
      ],
      "text/latex": [
       "A matrix: 2 × 2 of type dbl\n",
       "\\begin{tabular}{ll}\n",
       "\t  76 & 103\\\\\n",
       "\t 100 & 136\\\\\n",
       "\\end{tabular}\n"
      ],
      "text/markdown": [
       "\n",
       "A matrix: 2 × 2 of type dbl\n",
       "\n",
       "|  76 | 103 |\n",
       "| 100 | 136 |\n",
       "\n"
      ],
      "text/plain": [
       "     [,1] [,2]\n",
       "[1,]  76  103 \n",
       "[2,] 100  136 "
      ]
     },
     "metadata": {},
     "output_type": "display_data"
    }
   ],
   "source": [
    "# ':', crea una secuencia de números.\n",
    "x <- 1:10\n",
    "x\n",
    "\n",
    "# '%in%', comprueba si un elemento pertenece a un vector.\n",
    "3 %in% x # TRUE\n",
    "11 %in% x # FALSE\n",
    "\n",
    "# %*%, ejecuta la multiplicación de matrices.\n",
    "A <- matrix(c(1, 2, 3, 4, 5, 6), nrow = 2, ncol = 3)\n",
    "B <- matrix(c(7, 8, 9, 10, 11, 12), nrow = 3, ncol = 2)\n",
    "C <- A %*% B\n",
    "C"
   ]
  },
  {
   "cell_type": "markdown",
   "id": "a7d5de0c-8f4f-476f-9686-b5cfbabeccde",
   "metadata": {},
   "source": [
    "## Estructuras de Control\n",
    "### Estructuras Condicionales\n",
    "##### Una estructura condicional permite que el flujo de ejecución de un programa cambie dependiendo de si una condición es verdadera o falsa.\n",
    "#### Sentencia IF\n",
    "Una sentencia 'if' evalúa una condición. Si la condición es verdadera, el bloque de código del 'if' se ejecuta. Por el contrario, el bloque de instrucciones se omite."
   ]
  },
  {
   "cell_type": "code",
   "execution_count": 137,
   "id": "274a8ba4-48a6-4d98-b651-00b70a9a6c52",
   "metadata": {},
   "outputs": [
    {
     "name": "stdout",
     "output_type": "stream",
     "text": [
      "[1] \"B es mayor que A\"\n"
     ]
    }
   ],
   "source": [
    "a <- 33\n",
    "b <- 200\n",
    "\n",
    "if (a < b) {\n",
    "    print(\"B es mayor que A\")\n",
    "}\n",
    "\n",
    "if (a > b) {\n",
    "    print(\"A es mayor que B\")\n",
    "}"
   ]
  },
  {
   "cell_type": "markdown",
   "id": "dbe06eb3-bca8-410b-933d-eddc8eb60f2f",
   "metadata": {},
   "source": [
    "En este caso, se cumple la condición del primer 'if'; por ende, se ejecuta el bloque de instrucciones correspondiente.\n",
    "#### Sentencia ELSE IF\n",
    "Una sentencia 'else if' permite evaluar diferentes condiciones (además de la condición de la sentencia 'if'). En este caso, se ejecutará el bloque de instrucciones asociado a la primera condición que sea verdadera."
   ]
  },
  {
   "cell_type": "code",
   "execution_count": 140,
   "id": "9f3bc933-b92f-4632-99bb-02b8fd5e040f",
   "metadata": {},
   "outputs": [
    {
     "name": "stdout",
     "output_type": "stream",
     "text": [
      "[1] \"A es menor que 3\"\n"
     ]
    }
   ],
   "source": [
    "a <- 1\n",
    "b <- 2\n",
    "\n",
    "if (a > 3) {\n",
    "    print(\"A es mayor que 3\")\n",
    "} else if (a == 3) {\n",
    "    print(\"A es igual a 3\")\n",
    "} else if (a < 3) {\n",
    "    print(\"A es menor que 3\")\n",
    "}"
   ]
  },
  {
   "cell_type": "markdown",
   "id": "b9e0e00a-7875-4db6-86be-cece86f99bb1",
   "metadata": {},
   "source": [
    "En este caso, no se cumple la condición del 'if'. Sin embargo, se cumple la condición del segundo 'else if'.\n",
    "#### Sentencia ELSE\n",
    "Una sentencia 'else' establece una alternativa si no se cumple ninguna de las condiciones anteriores. "
   ]
  },
  {
   "cell_type": "code",
   "execution_count": 143,
   "id": "3c24ca0d-8eb4-478f-9f44-71344e38f5a0",
   "metadata": {},
   "outputs": [
    {
     "name": "stdout",
     "output_type": "stream",
     "text": [
      "[1] \"A es igual a B\"\n"
     ]
    }
   ],
   "source": [
    "a <- 1\n",
    "b <- 1\n",
    "\n",
    "if (a != b) {\n",
    "    print(\"A es diferente de B\")\n",
    "} else {\n",
    "    print(\"A es igual a B\")\n",
    "}"
   ]
  },
  {
   "cell_type": "markdown",
   "id": "0d344b41-72eb-4ab5-9162-d47b4ade1cca",
   "metadata": {},
   "source": [
    "#### Estructuras Condicionales Anidadas\n",
    "Las estructuras condicionales pueden anidarse; es decir, pueden existir estructuras condicionales dentro de otras estructuras."
   ]
  },
  {
   "cell_type": "code",
   "execution_count": 146,
   "id": "25bb2fd4-077d-4a2b-8a3a-8d7659897e1d",
   "metadata": {},
   "outputs": [
    {
     "name": "stdout",
     "output_type": "stream",
     "text": [
      "[1] \"A es mayor que B, C y D\"\n"
     ]
    }
   ],
   "source": [
    "a <- 10\n",
    "b <- 7\n",
    "c <- 5\n",
    "d <- 2\n",
    "\n",
    "if (a > b) {\n",
    "    if (a > c & a > d) {\n",
    "        print(\"A es mayor que B, C y D\")\n",
    "    }\n",
    "}"
   ]
  },
  {
   "cell_type": "markdown",
   "id": "573bbe3e-1b71-4e84-80f6-089b34a00dba",
   "metadata": {},
   "source": [
    "### Bucles\n",
    "##### Un bucle es una estructura de control en programación que permite ejecutar un bloque de código de forma iterativa, ya sea un número específico de veces o hasta que se cumpla una condición determinada.\n",
    "#### Bucle FOR\n",
    "Los ciclos 'for' permiten iterar un bloque de código una cantidad específica de veces. Su sintaxis es la siguiente:"
   ]
  },
  {
   "cell_type": "code",
   "execution_count": 149,
   "id": "6f1d5133-c4d6-4cd4-8c70-647276115ed1",
   "metadata": {},
   "outputs": [
    {
     "name": "stdout",
     "output_type": "stream",
     "text": [
      "[1] 1\n",
      "[1] 2\n",
      "[1] 3\n"
     ]
    }
   ],
   "source": [
    "# Sintaxis: for ('variable de control' in 'valor inicial de la variable de control':'valor máximo de la variable de control').\n",
    "for (x in 1:3) {\n",
    "  print(x)\n",
    "}"
   ]
  },
  {
   "cell_type": "markdown",
   "id": "c0145857-6b9b-4fe9-aaf8-3183d8670124",
   "metadata": {},
   "source": [
    "Asimismo, los ciclos 'for' permiten recorrer arreglos, utilizando la siguiente sintaxis:"
   ]
  },
  {
   "cell_type": "code",
   "execution_count": 152,
   "id": "1df11f7d-1d6d-4ca1-b12c-392294b3b778",
   "metadata": {},
   "outputs": [
    {
     "name": "stdout",
     "output_type": "stream",
     "text": [
      "[1] \"Manzana\"\n",
      "[1] \"Pera\"\n",
      "[1] \"Guanábana\"\n"
     ]
    }
   ],
   "source": [
    "frutas <- list(\"Manzana\", \"Pera\", \"Guanábana\")\n",
    "\n",
    "for (i in frutas) {\n",
    "    print(i)\n",
    "}"
   ]
  },
  {
   "cell_type": "markdown",
   "id": "9a56cf1c-3f30-44d0-9eee-aa3d807785d1",
   "metadata": {},
   "source": [
    "#### Bucle WHILE\n",
    "Los ciclos 'while' son estructuras de control que permiten ejecutar un bloque de código repetidamente mientras se cumpla una condición específica. Su sintaxis es la siguiente:"
   ]
  },
  {
   "cell_type": "code",
   "execution_count": 155,
   "id": "9b38371b-eb04-459d-abfa-7f87e02f3c6b",
   "metadata": {},
   "outputs": [
    {
     "name": "stdout",
     "output_type": "stream",
     "text": [
      "[1] 1\n",
      "[1] 2\n",
      "[1] 3\n",
      "[1] 4\n"
     ]
    }
   ],
   "source": [
    "i <- 1 # Variable de control.\n",
    "\n",
    "# Sintaxis: while (condición).\n",
    "while (i <= 4) {\n",
    "  print(i)\n",
    "  i <- i + 1 # En este caso, la variable 'i' se incrementa en 1 en cada iteración.\n",
    "}"
   ]
  },
  {
   "cell_type": "markdown",
   "id": "6b76b24d-a80e-4304-9abb-c900e81ddd18",
   "metadata": {},
   "source": [
    "#### Break y Next\n",
    "La sentencia 'break' permite detener la ejecución del ciclo, incluso si la condición es verdadera. Por otro lado, la sentencia 'next' permite omitir una iteración de un ciclo, sin culminar su ejecución."
   ]
  },
  {
   "cell_type": "code",
   "execution_count": 158,
   "id": "6721be99-a50a-4165-b6da-30761e0a8073",
   "metadata": {},
   "outputs": [
    {
     "name": "stdout",
     "output_type": "stream",
     "text": [
      "[1] 1\n",
      "[1] 2\n",
      "[1] 4\n"
     ]
    }
   ],
   "source": [
    "i <- 0 # Variable de control.\n",
    "\n",
    "while (i <= 6) {\n",
    "  i <- i + 1 # Incrementa la variable 'i' en 1.\n",
    "  if (i == 3) {\n",
    "    next # Omite la iteración. Evitará que se imprima el número 3.\n",
    "  }\n",
    "  if (i == 5) {\n",
    "      break # Culminará el ciclo, evitando la impresión del 5 y el 6.\n",
    "  }\n",
    "  print(i)\n",
    "}"
   ]
  },
  {
   "cell_type": "markdown",
   "id": "83910281-24a2-4c7f-8953-a77615b8e446",
   "metadata": {},
   "source": [
    "## Funciones en R\n",
    "#### Una función es un bloque de código que realiza una tarea específica y puede ser reutilizado en diferentes partes de un programa."
   ]
  },
  {
   "cell_type": "code",
   "execution_count": 161,
   "id": "a967f520-30fe-417a-875f-708f15cde098",
   "metadata": {},
   "outputs": [
    {
     "name": "stdout",
     "output_type": "stream",
     "text": [
      "[1] \"José Pérez\"\n"
     ]
    }
   ],
   "source": [
    "# Sintaxis: 'nombre-función' <- function('parámetro1', 'parámetro2', ...) {'cuerpo de la función'}\n",
    "funcion1 <- function(nombre, apellido) {\n",
    "  nombrecompleto <- paste(nombre, apellido) # Cuerpo de la función.\n",
    "  return (nombrecompleto) # 'return()' permite retornar un resultado.\n",
    "}\n",
    "\n",
    "print(funcion1(\"José\", \"Pérez\")) # Para invocar a la función: 'nombre-función'('argumento1', 'argumento2', ...)"
   ]
  },
  {
   "cell_type": "markdown",
   "id": "09b0a00c-3e4a-474d-8d49-d0b9c92b4113",
   "metadata": {},
   "source": [
    "#### Valor de Parámetro por Defecto\n",
    "Es posible definir valores de parámetros por defecto, que serán tomados por la función si no son proporcionados sus respectivos argumentos al invocar a la función."
   ]
  },
  {
   "cell_type": "code",
   "execution_count": 164,
   "id": "53f20578-e39e-4cb9-b6e0-7b74e73f9c4f",
   "metadata": {},
   "outputs": [
    {
     "data": {
      "text/html": [
       "'Soy de Suecia'"
      ],
      "text/latex": [
       "'Soy de Suecia'"
      ],
      "text/markdown": [
       "'Soy de Suecia'"
      ],
      "text/plain": [
       "[1] \"Soy de Suecia\""
      ]
     },
     "metadata": {},
     "output_type": "display_data"
    },
    {
     "data": {
      "text/html": [
       "'Soy de India'"
      ],
      "text/latex": [
       "'Soy de India'"
      ],
      "text/markdown": [
       "'Soy de India'"
      ],
      "text/plain": [
       "[1] \"Soy de India\""
      ]
     },
     "metadata": {},
     "output_type": "display_data"
    },
    {
     "data": {
      "text/html": [
       "'Soy de Noruega'"
      ],
      "text/latex": [
       "'Soy de Noruega'"
      ],
      "text/markdown": [
       "'Soy de Noruega'"
      ],
      "text/plain": [
       "[1] \"Soy de Noruega\""
      ]
     },
     "metadata": {},
     "output_type": "display_data"
    },
    {
     "data": {
      "text/html": [
       "'Soy de Venezuela'"
      ],
      "text/latex": [
       "'Soy de Venezuela'"
      ],
      "text/markdown": [
       "'Soy de Venezuela'"
      ],
      "text/plain": [
       "[1] \"Soy de Venezuela\""
      ]
     },
     "metadata": {},
     "output_type": "display_data"
    }
   ],
   "source": [
    "funcion2 <- function(pais = \"Noruega\") {\n",
    "  paste(\"Soy de\", pais)\n",
    "  # No es necesario que una función retorne un valor.\n",
    "}\n",
    "\n",
    "funcion2(\"Suecia\")\n",
    "funcion2(\"India\")\n",
    "funcion2() # Tomará el valor por defecto: \"Noruega\".\n",
    "funcion2(\"Venezuela\")"
   ]
  },
  {
   "cell_type": "markdown",
   "id": "67413ae1-e98d-4b84-a589-d7e585a6b709",
   "metadata": {},
   "source": [
    "#### Funciones Anidadas\n",
    "En R, es posible definir una función dentro de otra. Sin embargo, las funciones anidadas no pueden ser invocadas directamente. Debe invocarse inicialmente a la función más externa. En general, las funciones pueden invocar a otras funciones durante su ejecución."
   ]
  },
  {
   "cell_type": "code",
   "execution_count": 167,
   "id": "a33c4756-85d8-4ef5-85f6-228cbc1a0fa0",
   "metadata": {},
   "outputs": [
    {
     "name": "stdout",
     "output_type": "stream",
     "text": [
      "[1] 8\n"
     ]
    }
   ],
   "source": [
    "funcion1 <- function(x, y) { # Función externa.\n",
    "  funcion2 <- function(x, y) { # Función interna.\n",
    "    a <- x + y\n",
    "    return(a)\n",
    "  }\n",
    "  return (funcion2(x, y)) # La función externa invoca a la función interna.\n",
    "}\n",
    "\n",
    "salida <- funcion1(3, 5)\n",
    "print(salida)"
   ]
  },
  {
   "cell_type": "markdown",
   "id": "924ebe18-f3ec-469a-8537-f43126412026",
   "metadata": {},
   "source": [
    "#### Funciones Recursivas\n",
    "En R, es posible definir funciones recursivas, que se invocan a sí mismas hasta que se cumpla una condición de terminación recursiva."
   ]
  },
  {
   "cell_type": "code",
   "execution_count": 170,
   "id": "331a15bf-25e2-4fc1-9795-3b03313f32a0",
   "metadata": {},
   "outputs": [
    {
     "data": {
      "text/html": [
       "21"
      ],
      "text/latex": [
       "21"
      ],
      "text/markdown": [
       "21"
      ],
      "text/plain": [
       "[1] 21"
      ]
     },
     "metadata": {},
     "output_type": "display_data"
    }
   ],
   "source": [
    "recursion <- function(k) {\n",
    "  if (k > 0) {\n",
    "    resultado <- k + recursion(k - 1) # Llamada recursiva a la función 'recursion'.\n",
    "  } else { # Condición de terminación recursiva.\n",
    "    resultado = 0\n",
    "    return(resultado)\n",
    "  }\n",
    "}\n",
    "\n",
    "sumatoria <- recursion(6)\n",
    "sumatoria"
   ]
  },
  {
   "cell_type": "markdown",
   "id": "4b8d9466-5a92-40e1-8fe6-ab924e70fbd4",
   "metadata": {},
   "source": [
    "## Estructuras de Datos\n",
    "### Arreglos\n",
    "##### Los arreglos son colecciones de elementos, que pueden tener más de dos dimensiones.\n",
    "La función array() permite crear arreglos en R. La función recibe un iterable y el parámetro 'dim' para especificar las dimensiones."
   ]
  },
  {
   "cell_type": "code",
   "execution_count": 173,
   "id": "0522fa34-0e03-45e2-a161-ecef276a5946",
   "metadata": {},
   "outputs": [
    {
     "data": {
      "text/html": [
       "<style>\n",
       ".list-inline {list-style: none; margin:0; padding: 0}\n",
       ".list-inline>li {display: inline-block}\n",
       ".list-inline>li:not(:last-child)::after {content: \"\\00b7\"; padding: 0 .5ex}\n",
       "</style>\n",
       "<ol class=list-inline><li>1</li><li>2</li><li>3</li><li>1</li><li>2</li><li>3</li></ol>\n"
      ],
      "text/latex": [
       "\\begin{enumerate*}\n",
       "\\item 1\n",
       "\\item 2\n",
       "\\item 3\n",
       "\\item 1\n",
       "\\item 2\n",
       "\\item 3\n",
       "\\end{enumerate*}\n"
      ],
      "text/markdown": [
       "1. 1\n",
       "2. 2\n",
       "3. 3\n",
       "4. 1\n",
       "5. 2\n",
       "6. 3\n",
       "\n",
       "\n"
      ],
      "text/plain": [
       ", , 1\n",
       "\n",
       "     [,1] [,2] [,3]\n",
       "[1,]    1    3    2\n",
       "[2,]    2    1    3\n"
      ]
     },
     "metadata": {},
     "output_type": "display_data"
    }
   ],
   "source": [
    "iterable <- c(1, 2, 3) # Definimos un iterable.\n",
    "\n",
    "# Sintaxis: array('nombre-iterable', dim('cantidad-filas', 'cantidad-columnas', 'cantidad-dimensiones').\n",
    "arreglo <- array(iterable, dim = c(2, 3, 1))\n",
    "arreglo"
   ]
  },
  {
   "cell_type": "markdown",
   "id": "31be832a-b750-46be-9911-d543cbad7db1",
   "metadata": {},
   "source": [
    "##### Asimismo, es posible acceder a los elementos de un arreglo, a través de la siguiente sintaxis:"
   ]
  },
  {
   "cell_type": "code",
   "execution_count": 176,
   "id": "7914b6fa-7af4-4ec2-9038-2a3fcb2f6d6e",
   "metadata": {},
   "outputs": [
    {
     "data": {
      "text/html": [
       "3"
      ],
      "text/latex": [
       "3"
      ],
      "text/markdown": [
       "3"
      ],
      "text/plain": [
       "[1] 3"
      ]
     },
     "metadata": {},
     "output_type": "display_data"
    }
   ],
   "source": [
    "# Sintaxis: 'nombre-arreglo'['número-fila', 'número-columna', 'número-dimensión']\n",
    "arreglo[2, 3, 1]"
   ]
  },
  {
   "cell_type": "markdown",
   "id": "1782d575-ec35-4613-9d79-2e4cba3eeb26",
   "metadata": {},
   "source": [
    "##### También es posible verificar la existencia de un elemento en un arreglo."
   ]
  },
  {
   "cell_type": "code",
   "execution_count": 179,
   "id": "d94103b0-2b9c-45b3-8161-4de36fbc60cd",
   "metadata": {},
   "outputs": [
    {
     "data": {
      "text/html": [
       "TRUE"
      ],
      "text/latex": [
       "TRUE"
      ],
      "text/markdown": [
       "TRUE"
      ],
      "text/plain": [
       "[1] TRUE"
      ]
     },
     "metadata": {},
     "output_type": "display_data"
    },
    {
     "data": {
      "text/html": [
       "FALSE"
      ],
      "text/latex": [
       "FALSE"
      ],
      "text/markdown": [
       "FALSE"
      ],
      "text/plain": [
       "[1] FALSE"
      ]
     },
     "metadata": {},
     "output_type": "display_data"
    }
   ],
   "source": [
    "# Sintaxis: 'elemento' %in% 'nombre-arreglo'.\n",
    "2 %in% arreglo # Debe retornar TRUE.\n",
    "4 %in% arreglo # Debe retornar FALSE."
   ]
  },
  {
   "cell_type": "markdown",
   "id": "5879d93a-2b9f-4111-813d-70d30557588a",
   "metadata": {},
   "source": [
    "##### La función dim() permite obtener las dimensiones de un arreglo, que recibe como argumento."
   ]
  },
  {
   "cell_type": "code",
   "execution_count": 182,
   "id": "3e9dd5ae-a66c-4d65-bb10-f1ac89fbbeac",
   "metadata": {},
   "outputs": [
    {
     "data": {
      "text/html": [
       "<style>\n",
       ".list-inline {list-style: none; margin:0; padding: 0}\n",
       ".list-inline>li {display: inline-block}\n",
       ".list-inline>li:not(:last-child)::after {content: \"\\00b7\"; padding: 0 .5ex}\n",
       "</style>\n",
       "<ol class=list-inline><li>2</li><li>3</li><li>1</li></ol>\n"
      ],
      "text/latex": [
       "\\begin{enumerate*}\n",
       "\\item 2\n",
       "\\item 3\n",
       "\\item 1\n",
       "\\end{enumerate*}\n"
      ],
      "text/markdown": [
       "1. 2\n",
       "2. 3\n",
       "3. 1\n",
       "\n",
       "\n"
      ],
      "text/plain": [
       "[1] 2 3 1"
      ]
     },
     "metadata": {},
     "output_type": "display_data"
    }
   ],
   "source": [
    "dim(arreglo) # Debe retornar (2, 3, 1)."
   ]
  },
  {
   "cell_type": "markdown",
   "id": "b9fa530a-1a95-48ef-a6f6-2e82e00ad3e7",
   "metadata": {},
   "source": [
    "### Listas\n",
    "##### Una lista es una colección de elementos. No obstante, a diferencia de los vectores, las listas pueden contener diferentes tipos de datos.\n",
    "La función list() permite crear listas en R. La función recibe un conjunto de elementos separados por comas."
   ]
  },
  {
   "cell_type": "code",
   "execution_count": 185,
   "id": "1148acb5-7f1d-41d6-b809-a7cc20528096",
   "metadata": {},
   "outputs": [
    {
     "data": {
      "text/html": [
       "4"
      ],
      "text/latex": [
       "4"
      ],
      "text/markdown": [
       "4"
      ],
      "text/plain": [
       "[1] 4"
      ]
     },
     "metadata": {},
     "output_type": "display_data"
    }
   ],
   "source": [
    "# Sintaxis: list('elemento1', 'elemento2', 'elemento3',...).\n",
    "lista <- list(1, \"Juan\", TRUE, \"Almohada\")\n",
    "\n",
    "length(lista) # La función 'length' permite obtener el número de elementos que componen la lista."
   ]
  },
  {
   "cell_type": "markdown",
   "id": "87b2b8d6-4cf7-4b19-ba19-fb0e3cefe134",
   "metadata": {},
   "source": [
    "##### Asimismo, es posible acceder a los elementos de una lista, a través de la siguente sintaxis:"
   ]
  },
  {
   "cell_type": "code",
   "execution_count": 188,
   "id": "f55e2ab7-7bbf-4a47-b295-467abbf44ae6",
   "metadata": {},
   "outputs": [
    {
     "data": {
      "text/html": [
       "<ol>\n",
       "\t<li>'Juan'</li>\n",
       "</ol>\n"
      ],
      "text/latex": [
       "\\begin{enumerate}\n",
       "\\item 'Juan'\n",
       "\\end{enumerate}\n"
      ],
      "text/markdown": [
       "1. 'Juan'\n",
       "\n",
       "\n"
      ],
      "text/plain": [
       "[[1]]\n",
       "[1] \"Juan\"\n"
      ]
     },
     "metadata": {},
     "output_type": "display_data"
    }
   ],
   "source": [
    "# Sintaxis: 'nombre-lista'['índice-elemento'].\n",
    "lista[2]"
   ]
  },
  {
   "cell_type": "markdown",
   "id": "5ed08337-444e-40f4-9b49-2a87d575eda1",
   "metadata": {},
   "source": [
    "A diferencia de otros lenguajes de programación, los índices de un iterable en R inician en 1. \n",
    "##### Los elementos de una lista pueden ser modificados, de la siguiente manera:"
   ]
  },
  {
   "cell_type": "code",
   "execution_count": 191,
   "id": "e07c226e-10c5-4691-8ba7-2f7041e68833",
   "metadata": {},
   "outputs": [
    {
     "data": {
      "text/html": [
       "<ol>\n",
       "\t<li>'Programación'</li>\n",
       "\t<li>'Juan'</li>\n",
       "\t<li>TRUE</li>\n",
       "\t<li>'Almohada'</li>\n",
       "</ol>\n"
      ],
      "text/latex": [
       "\\begin{enumerate}\n",
       "\\item 'Programación'\n",
       "\\item 'Juan'\n",
       "\\item TRUE\n",
       "\\item 'Almohada'\n",
       "\\end{enumerate}\n"
      ],
      "text/markdown": [
       "1. 'Programación'\n",
       "2. 'Juan'\n",
       "3. TRUE\n",
       "4. 'Almohada'\n",
       "\n",
       "\n"
      ],
      "text/plain": [
       "[[1]]\n",
       "[1] \"Programación\"\n",
       "\n",
       "[[2]]\n",
       "[1] \"Juan\"\n",
       "\n",
       "[[3]]\n",
       "[1] TRUE\n",
       "\n",
       "[[4]]\n",
       "[1] \"Almohada\"\n"
      ]
     },
     "metadata": {},
     "output_type": "display_data"
    }
   ],
   "source": [
    "# Sintaxis: 'nombre-lista'['índice-elemento'] <- 'elemento-nuevo'.\n",
    "lista[1] <- \"Programación\"\n",
    "\n",
    "# Imprimimos la lista modificada.\n",
    "lista"
   ]
  },
  {
   "cell_type": "markdown",
   "id": "10d4ddcd-73ba-450c-b4a0-204fd83ff95b",
   "metadata": {},
   "source": [
    "##### Al igual que en los arreglos, es posible verificar la existencia de un elemento en una lista en R."
   ]
  },
  {
   "cell_type": "code",
   "execution_count": 194,
   "id": "aee5f4e9-4afb-4b36-91ba-d8772b4abef2",
   "metadata": {},
   "outputs": [
    {
     "data": {
      "text/html": [
       "TRUE"
      ],
      "text/latex": [
       "TRUE"
      ],
      "text/markdown": [
       "TRUE"
      ],
      "text/plain": [
       "[1] TRUE"
      ]
     },
     "metadata": {},
     "output_type": "display_data"
    },
    {
     "data": {
      "text/html": [
       "FALSE"
      ],
      "text/latex": [
       "FALSE"
      ],
      "text/markdown": [
       "FALSE"
      ],
      "text/plain": [
       "[1] FALSE"
      ]
     },
     "metadata": {},
     "output_type": "display_data"
    }
   ],
   "source": [
    "\"Juan\" %in% lista # Debe retornar TRUE.\n",
    "\"Manzanita\" %in% lista # Debe retornar FALSE."
   ]
  },
  {
   "cell_type": "markdown",
   "id": "07e2691a-45ec-4404-98ee-a690271e7255",
   "metadata": {},
   "source": [
    "##### La función append() permite agregar elementos a una lista. Recibe como argumentos el nombre de la lista, el elemento a incluir y el índice anterior al que se desea agregar el elemento."
   ]
  },
  {
   "cell_type": "code",
   "execution_count": 197,
   "id": "c9942f27-d316-4a7c-824c-781d682eda29",
   "metadata": {},
   "outputs": [
    {
     "data": {
      "text/html": [
       "<ol>\n",
       "\t<li>'Programación'</li>\n",
       "\t<li>'Juan'</li>\n",
       "\t<li>45</li>\n",
       "\t<li>TRUE</li>\n",
       "\t<li>'Almohada'</li>\n",
       "</ol>\n"
      ],
      "text/latex": [
       "\\begin{enumerate}\n",
       "\\item 'Programación'\n",
       "\\item 'Juan'\n",
       "\\item 45\n",
       "\\item TRUE\n",
       "\\item 'Almohada'\n",
       "\\end{enumerate}\n"
      ],
      "text/markdown": [
       "1. 'Programación'\n",
       "2. 'Juan'\n",
       "3. 45\n",
       "4. TRUE\n",
       "5. 'Almohada'\n",
       "\n",
       "\n"
      ],
      "text/plain": [
       "[[1]]\n",
       "[1] \"Programación\"\n",
       "\n",
       "[[2]]\n",
       "[1] \"Juan\"\n",
       "\n",
       "[[3]]\n",
       "[1] 45\n",
       "\n",
       "[[4]]\n",
       "[1] TRUE\n",
       "\n",
       "[[5]]\n",
       "[1] \"Almohada\"\n"
      ]
     },
     "metadata": {},
     "output_type": "display_data"
    }
   ],
   "source": [
    "# Sintaxis: append('nombre-lista', 'elemento-nuevo', after = 'índice').\n",
    "lista <- append(lista, 45, after = 2)\n",
    "lista"
   ]
  },
  {
   "cell_type": "markdown",
   "id": "c32670ab-c8a8-4c9b-bb4b-94e7b116a54b",
   "metadata": {},
   "source": [
    "##### Por otro lado, es posible eliminar elementos de una lista, de la siguiente forma:"
   ]
  },
  {
   "cell_type": "code",
   "execution_count": 200,
   "id": "adf0b833-a861-4772-a5e9-2f9655dd4b21",
   "metadata": {},
   "outputs": [
    {
     "data": {
      "text/html": [
       "<ol>\n",
       "\t<li>1</li>\n",
       "\t<li>3</li>\n",
       "</ol>\n"
      ],
      "text/latex": [
       "\\begin{enumerate}\n",
       "\\item 1\n",
       "\\item 3\n",
       "\\end{enumerate}\n"
      ],
      "text/markdown": [
       "1. 1\n",
       "2. 3\n",
       "\n",
       "\n"
      ],
      "text/plain": [
       "[[1]]\n",
       "[1] 1\n",
       "\n",
       "[[2]]\n",
       "[1] 3\n"
      ]
     },
     "metadata": {},
     "output_type": "display_data"
    }
   ],
   "source": [
    "lista2 <- list(1, 2, 3)\n",
    "\n",
    "# Sintaxis: 'nombre-lista-nueva' <- 'nombre-lista'[-'índice-elemento'].\n",
    "listanueva <- lista2[-2] # Eliminamos el 2 de la lista.\n",
    "\n",
    "# Imprimimos la nueva lista.\n",
    "listanueva"
   ]
  },
  {
   "cell_type": "markdown",
   "id": "4b8c15ec-a627-4050-9dd3-efec830c6b03",
   "metadata": {},
   "source": [
    "##### En R, también es posible generar sublistas a partir de un rango de índices, de la siguiente manera:"
   ]
  },
  {
   "cell_type": "code",
   "execution_count": 203,
   "id": "7ddefc96-34cb-4cd2-88ac-14c2268a64e5",
   "metadata": {},
   "outputs": [
    {
     "data": {
      "text/html": [
       "<ol>\n",
       "\t<li>'Juan'</li>\n",
       "\t<li>45</li>\n",
       "\t<li>TRUE</li>\n",
       "</ol>\n"
      ],
      "text/latex": [
       "\\begin{enumerate}\n",
       "\\item 'Juan'\n",
       "\\item 45\n",
       "\\item TRUE\n",
       "\\end{enumerate}\n"
      ],
      "text/markdown": [
       "1. 'Juan'\n",
       "2. 45\n",
       "3. TRUE\n",
       "\n",
       "\n"
      ],
      "text/plain": [
       "[[1]]\n",
       "[1] \"Juan\"\n",
       "\n",
       "[[2]]\n",
       "[1] 45\n",
       "\n",
       "[[3]]\n",
       "[1] TRUE\n"
      ]
     },
     "metadata": {},
     "output_type": "display_data"
    }
   ],
   "source": [
    "# Sintaxis: ('nombre-lista')['índice-inicial':'índice-final'].\n",
    "(lista)[2:4]"
   ]
  },
  {
   "cell_type": "markdown",
   "id": "dbe5e5b9-caf5-4daf-8fd9-4141ae29f62f",
   "metadata": {},
   "source": [
    "### Vectores\n",
    "##### Un vector es una colección de elementos de un tipo único de dato.\n",
    "La función c() permite crear un vector, de la siguiente forma:"
   ]
  },
  {
   "cell_type": "code",
   "execution_count": 206,
   "id": "54022975-9ac8-460c-b930-4d2dbd94c919",
   "metadata": {},
   "outputs": [
    {
     "data": {
      "text/html": [
       "6"
      ],
      "text/latex": [
       "6"
      ],
      "text/markdown": [
       "6"
      ],
      "text/plain": [
       "[1] 6"
      ]
     },
     "metadata": {},
     "output_type": "display_data"
    }
   ],
   "source": [
    "# Sintaxis: 'nombre-vector' <- c('elemento1', 'elemento2', ...).\n",
    "vector <- c(1, 2, 3, 4, 5, 6)\n",
    "\n",
    "length(vector) # La función 'length' permite obtener el número de elementos que componen el vector."
   ]
  },
  {
   "cell_type": "markdown",
   "id": "42c94fc0-81a8-4dbc-99c0-a2c80b97ed5a",
   "metadata": {},
   "source": [
    "##### En R, la función sort() permite ordenar los elementos de un vector. En el caso de los valores numéricos, son organizados en orden creciente. En el caso de las cadenas de caracteres, son organizados en orden alfabético."
   ]
  },
  {
   "cell_type": "code",
   "execution_count": 209,
   "id": "7bc899ae-352b-4bbb-9575-1e765df09313",
   "metadata": {},
   "outputs": [
    {
     "data": {
      "text/html": [
       "<style>\n",
       ".list-inline {list-style: none; margin:0; padding: 0}\n",
       ".list-inline>li {display: inline-block}\n",
       ".list-inline>li:not(:last-child)::after {content: \"\\00b7\"; padding: 0 .5ex}\n",
       "</style>\n",
       "<ol class=list-inline><li>'limón'</li><li>'mango'</li><li>'manzana'</li><li>'naranja'</li><li>'pera'</li></ol>\n"
      ],
      "text/latex": [
       "\\begin{enumerate*}\n",
       "\\item 'limón'\n",
       "\\item 'mango'\n",
       "\\item 'manzana'\n",
       "\\item 'naranja'\n",
       "\\item 'pera'\n",
       "\\end{enumerate*}\n"
      ],
      "text/markdown": [
       "1. 'limón'\n",
       "2. 'mango'\n",
       "3. 'manzana'\n",
       "4. 'naranja'\n",
       "5. 'pera'\n",
       "\n",
       "\n"
      ],
      "text/plain": [
       "[1] \"limón\"   \"mango\"   \"manzana\" \"naranja\" \"pera\"   "
      ]
     },
     "metadata": {},
     "output_type": "display_data"
    },
    {
     "data": {
      "text/html": [
       "<style>\n",
       ".list-inline {list-style: none; margin:0; padding: 0}\n",
       ".list-inline>li {display: inline-block}\n",
       ".list-inline>li:not(:last-child)::after {content: \"\\00b7\"; padding: 0 .5ex}\n",
       "</style>\n",
       "<ol class=list-inline><li>2</li><li>3</li><li>5</li><li>7</li><li>13</li><li>20</li></ol>\n"
      ],
      "text/latex": [
       "\\begin{enumerate*}\n",
       "\\item 2\n",
       "\\item 3\n",
       "\\item 5\n",
       "\\item 7\n",
       "\\item 13\n",
       "\\item 20\n",
       "\\end{enumerate*}\n"
      ],
      "text/markdown": [
       "1. 2\n",
       "2. 3\n",
       "3. 5\n",
       "4. 7\n",
       "5. 13\n",
       "6. 20\n",
       "\n",
       "\n"
      ],
      "text/plain": [
       "[1]  2  3  5  7 13 20"
      ]
     },
     "metadata": {},
     "output_type": "display_data"
    }
   ],
   "source": [
    "frutas <- c(\"manzana\", \"pera\", \"naranja\", \"mango\", \"limón\")\n",
    "numeros <- c(13, 3, 5, 7, 20, 2)\n",
    "\n",
    "# Sintaxis: sort('nombre-vector').\n",
    "sort(frutas)  # Ordena cadenas de caracteres.\n",
    "sort(numeros) # Ordena valores numéricos."
   ]
  },
  {
   "cell_type": "markdown",
   "id": "4b1c5ba9-0644-4b82-8947-10dfa6435642",
   "metadata": {},
   "source": [
    "##### Asimismo, es posible acceder a los elementos de un vector."
   ]
  },
  {
   "cell_type": "code",
   "execution_count": 212,
   "id": "ccd70a87-7132-49cc-8196-f13c861c5e81",
   "metadata": {},
   "outputs": [
    {
     "data": {
      "text/html": [
       "<style>\n",
       ".list-inline {list-style: none; margin:0; padding: 0}\n",
       ".list-inline>li {display: inline-block}\n",
       ".list-inline>li:not(:last-child)::after {content: \"\\00b7\"; padding: 0 .5ex}\n",
       "</style>\n",
       "<ol class=list-inline><li>'manzana'</li><li>'naranja'</li></ol>\n"
      ],
      "text/latex": [
       "\\begin{enumerate*}\n",
       "\\item 'manzana'\n",
       "\\item 'naranja'\n",
       "\\end{enumerate*}\n"
      ],
      "text/markdown": [
       "1. 'manzana'\n",
       "2. 'naranja'\n",
       "\n",
       "\n"
      ],
      "text/plain": [
       "[1] \"manzana\" \"naranja\""
      ]
     },
     "metadata": {},
     "output_type": "display_data"
    }
   ],
   "source": [
    "# Sintaxis: 'nombre-vector'[c('índice1', 'índice2', ...)].\n",
    "frutas[c(1, 3)] # Debe obtener 'manzana' y 'naranja'."
   ]
  },
  {
   "cell_type": "markdown",
   "id": "25cc6cc1-87e4-4ec8-befe-db747ff5c876",
   "metadata": {},
   "source": [
    "##### También es posible modificar elementos, de la siguiente manera:"
   ]
  },
  {
   "cell_type": "code",
   "execution_count": 215,
   "id": "cc50bf28-3172-4795-90d8-e8857287f1b5",
   "metadata": {},
   "outputs": [
    {
     "data": {
      "text/html": [
       "<style>\n",
       ".list-inline {list-style: none; margin:0; padding: 0}\n",
       ".list-inline>li {display: inline-block}\n",
       ".list-inline>li:not(:last-child)::after {content: \"\\00b7\"; padding: 0 .5ex}\n",
       "</style>\n",
       "<ol class=list-inline><li>'guanábana'</li><li>'pera'</li><li>'naranja'</li><li>'mango'</li><li>'limón'</li></ol>\n"
      ],
      "text/latex": [
       "\\begin{enumerate*}\n",
       "\\item 'guanábana'\n",
       "\\item 'pera'\n",
       "\\item 'naranja'\n",
       "\\item 'mango'\n",
       "\\item 'limón'\n",
       "\\end{enumerate*}\n"
      ],
      "text/markdown": [
       "1. 'guanábana'\n",
       "2. 'pera'\n",
       "3. 'naranja'\n",
       "4. 'mango'\n",
       "5. 'limón'\n",
       "\n",
       "\n"
      ],
      "text/plain": [
       "[1] \"guanábana\" \"pera\"      \"naranja\"   \"mango\"     \"limón\"    "
      ]
     },
     "metadata": {},
     "output_type": "display_data"
    }
   ],
   "source": [
    "# Sintaxis: 'nombre-vector'['índice-elemento'] <- 'elemento-nuevo'.\n",
    "frutas[1] <- \"guanábana\"\n",
    "\n",
    "# Imprimimos el vector modificado.\n",
    "frutas"
   ]
  },
  {
   "cell_type": "markdown",
   "id": "f9a88582-29b8-418e-855d-f50ccccf2a1d",
   "metadata": {},
   "source": [
    "##### En R, es posible omitir elementos de un vector. Se debe emplear la siguiente sintaxis:"
   ]
  },
  {
   "cell_type": "code",
   "execution_count": 218,
   "id": "fe777e1d-15f0-4afd-8bd1-bd2f468e1743",
   "metadata": {},
   "outputs": [
    {
     "data": {
      "text/html": [
       "<style>\n",
       ".list-inline {list-style: none; margin:0; padding: 0}\n",
       ".list-inline>li {display: inline-block}\n",
       ".list-inline>li:not(:last-child)::after {content: \"\\00b7\"; padding: 0 .5ex}\n",
       "</style>\n",
       "<ol class=list-inline><li>'pera'</li><li>'naranja'</li><li>'mango'</li><li>'limón'</li></ol>\n"
      ],
      "text/latex": [
       "\\begin{enumerate*}\n",
       "\\item 'pera'\n",
       "\\item 'naranja'\n",
       "\\item 'mango'\n",
       "\\item 'limón'\n",
       "\\end{enumerate*}\n"
      ],
      "text/markdown": [
       "1. 'pera'\n",
       "2. 'naranja'\n",
       "3. 'mango'\n",
       "4. 'limón'\n",
       "\n",
       "\n"
      ],
      "text/plain": [
       "[1] \"pera\"    \"naranja\" \"mango\"   \"limón\"  "
      ]
     },
     "metadata": {},
     "output_type": "display_data"
    }
   ],
   "source": [
    "# Sintaxis: 'nombre-vector'[c(-'índice-elemento')].\n",
    "frutas[c(-1)] # Debe omitir 'guanábana'."
   ]
  },
  {
   "cell_type": "markdown",
   "id": "376ed53c-bb29-4149-88d2-eaca91a4c031",
   "metadata": {},
   "source": [
    "##### Por otro lado, es posible crear vectores con valores numéricos en secuencia."
   ]
  },
  {
   "cell_type": "code",
   "execution_count": 221,
   "id": "9e1543cb-aaf2-4304-a9f4-023e1c877af8",
   "metadata": {},
   "outputs": [
    {
     "data": {
      "text/html": [
       "<style>\n",
       ".list-inline {list-style: none; margin:0; padding: 0}\n",
       ".list-inline>li {display: inline-block}\n",
       ".list-inline>li:not(:last-child)::after {content: \"\\00b7\"; padding: 0 .5ex}\n",
       "</style>\n",
       "<ol class=list-inline><li>1</li><li>2</li><li>3</li><li>4</li><li>5</li><li>6</li><li>7</li><li>8</li><li>9</li><li>10</li></ol>\n"
      ],
      "text/latex": [
       "\\begin{enumerate*}\n",
       "\\item 1\n",
       "\\item 2\n",
       "\\item 3\n",
       "\\item 4\n",
       "\\item 5\n",
       "\\item 6\n",
       "\\item 7\n",
       "\\item 8\n",
       "\\item 9\n",
       "\\item 10\n",
       "\\end{enumerate*}\n"
      ],
      "text/markdown": [
       "1. 1\n",
       "2. 2\n",
       "3. 3\n",
       "4. 4\n",
       "5. 5\n",
       "6. 6\n",
       "7. 7\n",
       "8. 8\n",
       "9. 9\n",
       "10. 10\n",
       "\n",
       "\n"
      ],
      "text/plain": [
       " [1]  1  2  3  4  5  6  7  8  9 10"
      ]
     },
     "metadata": {},
     "output_type": "display_data"
    }
   ],
   "source": [
    "# Sintaxis: 'nombre-vector' <- 'elemento-inicial':'elemento-final'.\n",
    "numeros <- 1:10\n",
    "numeros"
   ]
  },
  {
   "cell_type": "markdown",
   "id": "35948827-857a-4e42-a02a-bbc887cd4bed",
   "metadata": {},
   "source": [
    "### Matrices\n",
    "##### Una matriz es una colección bidimensional de elementos, distribuidos en filas y columnas. \n",
    "En R, la función matrix() permite crear matrices. Es necesario especificar los parámetros 'nrow' y 'ncol', que determinan el número de filas y columnas de la matriz."
   ]
  },
  {
   "cell_type": "code",
   "execution_count": 224,
   "id": "875c9cc9-033f-4e6b-bc32-2be66d6f4a44",
   "metadata": {},
   "outputs": [
    {
     "data": {
      "text/html": [
       "<table class=\"dataframe\">\n",
       "<caption>A matrix: 3 × 2 of type dbl</caption>\n",
       "<tbody>\n",
       "\t<tr><td>1</td><td>4</td></tr>\n",
       "\t<tr><td>2</td><td>5</td></tr>\n",
       "\t<tr><td>3</td><td>6</td></tr>\n",
       "</tbody>\n",
       "</table>\n"
      ],
      "text/latex": [
       "A matrix: 3 × 2 of type dbl\n",
       "\\begin{tabular}{ll}\n",
       "\t 1 & 4\\\\\n",
       "\t 2 & 5\\\\\n",
       "\t 3 & 6\\\\\n",
       "\\end{tabular}\n"
      ],
      "text/markdown": [
       "\n",
       "A matrix: 3 × 2 of type dbl\n",
       "\n",
       "| 1 | 4 |\n",
       "| 2 | 5 |\n",
       "| 3 | 6 |\n",
       "\n"
      ],
      "text/plain": [
       "     [,1] [,2]\n",
       "[1,] 1    4   \n",
       "[2,] 2    5   \n",
       "[3,] 3    6   "
      ]
     },
     "metadata": {},
     "output_type": "display_data"
    }
   ],
   "source": [
    "# Sintaxis: 'nombre-matriz' <- matrix('iterable', nrow = 'cantidad-filas', ncol = 'cantidad-columnas').\n",
    "matriz <- matrix(c(1,2,3,4,5,6), nrow = 3, ncol = 2)\n",
    "\n",
    "matriz"
   ]
  },
  {
   "cell_type": "markdown",
   "id": "ee76f908-edbe-4ec1-9bc6-14bbef808771",
   "metadata": {},
   "source": [
    "##### En R, es posible acceder a los elementos de una matriz, de la siguiente forma:"
   ]
  },
  {
   "cell_type": "code",
   "execution_count": 227,
   "id": "6bebaa02-8b3c-4d7e-993b-98744a255c17",
   "metadata": {},
   "outputs": [
    {
     "data": {
      "text/html": [
       "4"
      ],
      "text/latex": [
       "4"
      ],
      "text/markdown": [
       "4"
      ],
      "text/plain": [
       "[1] 4"
      ]
     },
     "metadata": {},
     "output_type": "display_data"
    },
    {
     "data": {
      "text/html": [
       "<style>\n",
       ".list-inline {list-style: none; margin:0; padding: 0}\n",
       ".list-inline>li {display: inline-block}\n",
       ".list-inline>li:not(:last-child)::after {content: \"\\00b7\"; padding: 0 .5ex}\n",
       "</style>\n",
       "<ol class=list-inline><li>1</li><li>4</li></ol>\n"
      ],
      "text/latex": [
       "\\begin{enumerate*}\n",
       "\\item 1\n",
       "\\item 4\n",
       "\\end{enumerate*}\n"
      ],
      "text/markdown": [
       "1. 1\n",
       "2. 4\n",
       "\n",
       "\n"
      ],
      "text/plain": [
       "[1] 1 4"
      ]
     },
     "metadata": {},
     "output_type": "display_data"
    },
    {
     "data": {
      "text/html": [
       "<style>\n",
       ".list-inline {list-style: none; margin:0; padding: 0}\n",
       ".list-inline>li {display: inline-block}\n",
       ".list-inline>li:not(:last-child)::after {content: \"\\00b7\"; padding: 0 .5ex}\n",
       "</style>\n",
       "<ol class=list-inline><li>4</li><li>5</li><li>6</li></ol>\n"
      ],
      "text/latex": [
       "\\begin{enumerate*}\n",
       "\\item 4\n",
       "\\item 5\n",
       "\\item 6\n",
       "\\end{enumerate*}\n"
      ],
      "text/markdown": [
       "1. 4\n",
       "2. 5\n",
       "3. 6\n",
       "\n",
       "\n"
      ],
      "text/plain": [
       "[1] 4 5 6"
      ]
     },
     "metadata": {},
     "output_type": "display_data"
    }
   ],
   "source": [
    "# Sintaxis: 'nombre-matriz'['número-fila', 'número-columna'].\n",
    "matriz[1, 2] # Debe retornar 4.\n",
    "\n",
    "# Sintaxis: 'nombre-matriz'['número-fila',].\n",
    "matriz[1,] # Debe retornar la fila #1 de la matriz.\n",
    "\n",
    "# Sintaxis: 'nombre-matriz'[,'número-columna'].\n",
    "matriz[,2] # Debe retornar la columna #2 de la matriz."
   ]
  },
  {
   "cell_type": "markdown",
   "id": "80e343bf-2feb-4c3e-9f16-80a1aac4464e",
   "metadata": {},
   "source": [
    "##### Asimismo, es posible acceder a más de una fila o columna de una matriz."
   ]
  },
  {
   "cell_type": "code",
   "execution_count": 230,
   "id": "90d69d88-b198-44d4-82b8-1f9ae5f23dc2",
   "metadata": {},
   "outputs": [
    {
     "data": {
      "text/html": [
       "<table class=\"dataframe\">\n",
       "<caption>A matrix: 2 × 2 of type dbl</caption>\n",
       "<tbody>\n",
       "\t<tr><td>1</td><td>4</td></tr>\n",
       "\t<tr><td>2</td><td>5</td></tr>\n",
       "</tbody>\n",
       "</table>\n"
      ],
      "text/latex": [
       "A matrix: 2 × 2 of type dbl\n",
       "\\begin{tabular}{ll}\n",
       "\t 1 & 4\\\\\n",
       "\t 2 & 5\\\\\n",
       "\\end{tabular}\n"
      ],
      "text/markdown": [
       "\n",
       "A matrix: 2 × 2 of type dbl\n",
       "\n",
       "| 1 | 4 |\n",
       "| 2 | 5 |\n",
       "\n"
      ],
      "text/plain": [
       "     [,1] [,2]\n",
       "[1,] 1    4   \n",
       "[2,] 2    5   "
      ]
     },
     "metadata": {},
     "output_type": "display_data"
    },
    {
     "data": {
      "text/html": [
       "<table class=\"dataframe\">\n",
       "<caption>A matrix: 3 × 2 of type dbl</caption>\n",
       "<tbody>\n",
       "\t<tr><td>1</td><td>4</td></tr>\n",
       "\t<tr><td>2</td><td>5</td></tr>\n",
       "\t<tr><td>3</td><td>6</td></tr>\n",
       "</tbody>\n",
       "</table>\n"
      ],
      "text/latex": [
       "A matrix: 3 × 2 of type dbl\n",
       "\\begin{tabular}{ll}\n",
       "\t 1 & 4\\\\\n",
       "\t 2 & 5\\\\\n",
       "\t 3 & 6\\\\\n",
       "\\end{tabular}\n"
      ],
      "text/markdown": [
       "\n",
       "A matrix: 3 × 2 of type dbl\n",
       "\n",
       "| 1 | 4 |\n",
       "| 2 | 5 |\n",
       "| 3 | 6 |\n",
       "\n"
      ],
      "text/plain": [
       "     [,1] [,2]\n",
       "[1,] 1    4   \n",
       "[2,] 2    5   \n",
       "[3,] 3    6   "
      ]
     },
     "metadata": {},
     "output_type": "display_data"
    }
   ],
   "source": [
    "# Sintaxis: 'nombre-matriz'[c('número-fila1', 'número-fila2', ...),].\n",
    "matriz[c(1, 2),]\n",
    "\n",
    "# Sintaxis: 'nombre-matriz'[,c('número-columna1', 'número-columna2', ...)].\n",
    "matriz[,c(1, 2)]"
   ]
  },
  {
   "cell_type": "markdown",
   "id": "3d52a1ea-992d-402a-9bfb-5c228656b409",
   "metadata": {},
   "source": [
    "##### En R, es posible agregar filas (con la función rbind()) y columnas (con la función cbind()), de la siguiente forma:"
   ]
  },
  {
   "cell_type": "code",
   "execution_count": 233,
   "id": "6dc0b6eb-a177-4eaa-869c-5d4a8e5e61a1",
   "metadata": {},
   "outputs": [
    {
     "data": {
      "text/html": [
       "<table class=\"dataframe\">\n",
       "<caption>A matrix: 3 × 3 of type dbl</caption>\n",
       "<tbody>\n",
       "\t<tr><td>1</td><td>4</td><td>7</td></tr>\n",
       "\t<tr><td>2</td><td>5</td><td>8</td></tr>\n",
       "\t<tr><td>3</td><td>6</td><td>9</td></tr>\n",
       "</tbody>\n",
       "</table>\n"
      ],
      "text/latex": [
       "A matrix: 3 × 3 of type dbl\n",
       "\\begin{tabular}{lll}\n",
       "\t 1 & 4 & 7\\\\\n",
       "\t 2 & 5 & 8\\\\\n",
       "\t 3 & 6 & 9\\\\\n",
       "\\end{tabular}\n"
      ],
      "text/markdown": [
       "\n",
       "A matrix: 3 × 3 of type dbl\n",
       "\n",
       "| 1 | 4 | 7 |\n",
       "| 2 | 5 | 8 |\n",
       "| 3 | 6 | 9 |\n",
       "\n"
      ],
      "text/plain": [
       "     [,1] [,2] [,3]\n",
       "[1,] 1    4    7   \n",
       "[2,] 2    5    8   \n",
       "[3,] 3    6    9   "
      ]
     },
     "metadata": {},
     "output_type": "display_data"
    },
    {
     "data": {
      "text/html": [
       "<table class=\"dataframe\">\n",
       "<caption>A matrix: 4 × 2 of type dbl</caption>\n",
       "<tbody>\n",
       "\t<tr><td>1</td><td>4</td></tr>\n",
       "\t<tr><td>2</td><td>5</td></tr>\n",
       "\t<tr><td>3</td><td>6</td></tr>\n",
       "\t<tr><td>7</td><td>8</td></tr>\n",
       "</tbody>\n",
       "</table>\n"
      ],
      "text/latex": [
       "A matrix: 4 × 2 of type dbl\n",
       "\\begin{tabular}{ll}\n",
       "\t 1 & 4\\\\\n",
       "\t 2 & 5\\\\\n",
       "\t 3 & 6\\\\\n",
       "\t 7 & 8\\\\\n",
       "\\end{tabular}\n"
      ],
      "text/markdown": [
       "\n",
       "A matrix: 4 × 2 of type dbl\n",
       "\n",
       "| 1 | 4 |\n",
       "| 2 | 5 |\n",
       "| 3 | 6 |\n",
       "| 7 | 8 |\n",
       "\n"
      ],
      "text/plain": [
       "     [,1] [,2]\n",
       "[1,] 1    4   \n",
       "[2,] 2    5   \n",
       "[3,] 3    6   \n",
       "[4,] 7    8   "
      ]
     },
     "metadata": {},
     "output_type": "display_data"
    }
   ],
   "source": [
    "# Sintaxis: 'nombre-matriz-nueva' <- cbind('nombre-matriz', 'iterable').\n",
    "matriznueva1 <- cbind(matriz, c(7, 8, 9)) # Agrega una columna a la matriz.\n",
    "\n",
    "matriznueva1\n",
    "\n",
    "# Sintaxis: 'nombre-matriz-nueva' <- rbind('nombre-matriz', 'iterable').\n",
    "matriznueva2 <- rbind(matriz, c(7, 8)) # Agrega una fila a la matriz.\n",
    "\n",
    "matriznueva2"
   ]
  },
  {
   "cell_type": "markdown",
   "id": "8e109f67-7bb5-4ec0-ac61-bfa438e83ae6",
   "metadata": {},
   "source": [
    "rbind() y cbind() también permite concatenar matrices.\n",
    "##### Por otro lado, es posible eliminar filas y columnas de una matriz, a través de la siguiente sintaxis:"
   ]
  },
  {
   "cell_type": "code",
   "execution_count": 236,
   "id": "2691952d-3d7e-4adb-989f-41fa7c8d6879",
   "metadata": {},
   "outputs": [
    {
     "data": {
      "text/html": [
       "<table class=\"dataframe\">\n",
       "<caption>A matrix: 3 × 2 of type chr</caption>\n",
       "<tbody>\n",
       "\t<tr><td>Manzana</td><td>Naranja</td></tr>\n",
       "\t<tr><td>Pera   </td><td>Mango  </td></tr>\n",
       "\t<tr><td>Uva    </td><td>Piña   </td></tr>\n",
       "</tbody>\n",
       "</table>\n"
      ],
      "text/latex": [
       "A matrix: 3 × 2 of type chr\n",
       "\\begin{tabular}{ll}\n",
       "\t Manzana & Naranja\\\\\n",
       "\t Pera    & Mango  \\\\\n",
       "\t Uva     & Piña   \\\\\n",
       "\\end{tabular}\n"
      ],
      "text/markdown": [
       "\n",
       "A matrix: 3 × 2 of type chr\n",
       "\n",
       "| Manzana | Naranja |\n",
       "| Pera    | Mango   |\n",
       "| Uva     | Piña    |\n",
       "\n"
      ],
      "text/plain": [
       "     [,1]    [,2]   \n",
       "[1,] Manzana Naranja\n",
       "[2,] Pera    Mango  \n",
       "[3,] Uva     Piña   "
      ]
     },
     "metadata": {},
     "output_type": "display_data"
    },
    {
     "data": {
      "text/html": [
       "<style>\n",
       ".list-inline {list-style: none; margin:0; padding: 0}\n",
       ".list-inline>li {display: inline-block}\n",
       ".list-inline>li:not(:last-child)::after {content: \"\\00b7\"; padding: 0 .5ex}\n",
       "</style>\n",
       "<ol class=list-inline><li>'Mango'</li><li>'Piña'</li></ol>\n"
      ],
      "text/latex": [
       "\\begin{enumerate*}\n",
       "\\item 'Mango'\n",
       "\\item 'Piña'\n",
       "\\end{enumerate*}\n"
      ],
      "text/markdown": [
       "1. 'Mango'\n",
       "2. 'Piña'\n",
       "\n",
       "\n"
      ],
      "text/plain": [
       "[1] \"Mango\" \"Piña\" "
      ]
     },
     "metadata": {},
     "output_type": "display_data"
    }
   ],
   "source": [
    "matriz2 <- matrix(c(\"Manzana\", \"Pera\", \"Uva\", \"Naranja\", \"Mango\", \"Piña\"), nrow = 3, ncol = 2)\n",
    "matriz2\n",
    "\n",
    "# Sintaxis: 'nombre-matriz' <- 'nombre-matriz'[-c('número-fila'), -c('número-columna')].\n",
    "matriz2 <- matriz2[-c(1), -c(1)] # Debe eliminar la primera fila y la primera columna.\n",
    "\n",
    "matriz2"
   ]
  },
  {
   "cell_type": "markdown",
   "id": "2ab6965c-0ff3-4f13-888e-6040e9672f3f",
   "metadata": {},
   "source": [
    "##### Entre otras funciones, length() permite obtener la dimensión de una matriz, dim() permite obtener el número de filas y columnas, y el operador %in% permite verificar la existencia de un elemento en la matriz."
   ]
  },
  {
   "cell_type": "code",
   "execution_count": 239,
   "id": "c3384a4c-60f9-4d51-88ab-e03bdaf30804",
   "metadata": {},
   "outputs": [
    {
     "data": {
      "text/html": [
       "<style>\n",
       ".list-inline {list-style: none; margin:0; padding: 0}\n",
       ".list-inline>li {display: inline-block}\n",
       ".list-inline>li:not(:last-child)::after {content: \"\\00b7\"; padding: 0 .5ex}\n",
       "</style>\n",
       "<ol class=list-inline><li>3</li><li>2</li></ol>\n"
      ],
      "text/latex": [
       "\\begin{enumerate*}\n",
       "\\item 3\n",
       "\\item 2\n",
       "\\end{enumerate*}\n"
      ],
      "text/markdown": [
       "1. 3\n",
       "2. 2\n",
       "\n",
       "\n"
      ],
      "text/plain": [
       "[1] 3 2"
      ]
     },
     "metadata": {},
     "output_type": "display_data"
    },
    {
     "data": {
      "text/html": [
       "6"
      ],
      "text/latex": [
       "6"
      ],
      "text/markdown": [
       "6"
      ],
      "text/plain": [
       "[1] 6"
      ]
     },
     "metadata": {},
     "output_type": "display_data"
    },
    {
     "data": {
      "text/html": [
       "TRUE"
      ],
      "text/latex": [
       "TRUE"
      ],
      "text/markdown": [
       "TRUE"
      ],
      "text/plain": [
       "[1] TRUE"
      ]
     },
     "metadata": {},
     "output_type": "display_data"
    },
    {
     "data": {
      "text/html": [
       "FALSE"
      ],
      "text/latex": [
       "FALSE"
      ],
      "text/markdown": [
       "FALSE"
      ],
      "text/plain": [
       "[1] FALSE"
      ]
     },
     "metadata": {},
     "output_type": "display_data"
    }
   ],
   "source": [
    "dim(matriz) # Debe retornar 3, 2 (cantidad de filas y columnas de la matriz).\n",
    "\n",
    "length(matriz) # Debe retornar 6 (cantidad de elementos de la matriz).\n",
    "\n",
    "1 %in% matriz # Debe retornar TRUE.\n",
    "10 %in% matriz # Debe retornar FALSE."
   ]
  },
  {
   "cell_type": "markdown",
   "id": "b98aca63-6c9f-4963-b79b-f277e1f0a94b",
   "metadata": {},
   "source": [
    "## Gráficos en R\n",
    "### R Plot\n",
    "##### La función plot() permite crear diagramas de dispersión, de la siguiente forma:"
   ]
  },
  {
   "cell_type": "code",
   "execution_count": 260,
   "id": "99e4686f-14bd-4a51-89df-cd20c55ed300",
   "metadata": {},
   "outputs": [
    {
     "data": {
      "image/png": "[encoded data removed]",
      "text/plain": [
       "Plot with title \"Gráfico\""
      ]
     },
     "metadata": {
      "image/png": {
       "height": 420,
       "width": 420
      }
     },
     "output_type": "display_data"
    },
    {
     "data": {
      "image/png": "[encoded data removed]",
      "text/plain": [
       "Plot with title \"Gráfico\""
      ]
     },
     "metadata": {
      "image/png": {
       "height": 420,
       "width": 420
      }
     },
     "output_type": "display_data"
    }
   ],
   "source": [
    "x <- c(1, 2, 3, 4, 5) # Coordenadas X.\n",
    "y <- c(3, 7, 8, 9, 12) # Coordenadas Y.\n",
    "\n",
    "\n",
    "# Sintaxis: plot('iterable-coordenadas-x', 'iterables-coordenadas-y').\n",
    "\n",
    "# El parámetro 'type' (con un valor de \"l\") dibuja una línea que conecta los puntos del diagrama.\n",
    "# El parámetro 'main' define el título del gráfico.\n",
    "# El parámetro 'xlab' define el título del eje X.\n",
    "# El parámetro 'ylab' define el título del eje Y.\n",
    "# El parámetro 'col' define el color de la línea.\n",
    "# El parámetro 'lwd' define el grosor de la línea.\n",
    "# El parámetro 'lty' define el tipo de línea (por ejemplo: invisible = 0, sólida = 1, punteada = 3).\n",
    "\n",
    "plot(x, y, type=\"l\", main=\"Gráfico\", xlab=\"Eje X\", ylab=\"Eje Y\", col=\"blue\", lwd=5, lty=1) # Con línea.\n",
    "\n",
    "plot(x, y, main=\"Gráfico\", xlab=\"Eje X\", ylab=\"Eje Y\", col=\"blue\", lwd=5) # Sin línea.\n",
    "\n",
    "# La función lines() permite incorporar una línea adicional en un diagrama de dispersión.\n",
    "linea <- c(0, 8, 9, 12, 15)\n",
    "lines(linea, col=\"green\", lwd=5)"
   ]
  },
  {
   "cell_type": "markdown",
   "id": "b6bcb50a-b631-40c2-b9fc-83feeb02bf00",
   "metadata": {},
   "source": [
    "### R Scatterplot\n",
    "##### Permite representar la relación entre dos variables numéricas.\n",
    "La función points() permite comparar diagramas de dispersión."
   ]
  },
  {
   "cell_type": "code",
   "execution_count": 245,
   "id": "74b7216e-2c6e-4c65-bd1f-2ef322f6f90a",
   "metadata": {},
   "outputs": [
    {
     "data": {
      "image/png": "[encoded data removed]",
      "text/plain": [
       "Plot with title \"Observaciones\""
      ]
     },
     "metadata": {
      "image/png": {
       "height": 420,
       "width": 420
      }
     },
     "output_type": "display_data"
    }
   ],
   "source": [
    "x1 <- c(5,7,8,7,2,2,9,4,11,12,9,6)\n",
    "y1 <- c(99,86,87,88,111,103,87,94,78,77,85,86)\n",
    "\n",
    "plot(x1, y1, main=\"Observaciones\", xlab=\"Tiempo\", ylab=\"Velocidad\", col=\"red\", lwd=5)\n",
    "\n",
    "x2 <- c(2,2,8,1,15,8,12,9,7,3,11,4,7,14,12)\n",
    "y2 <- c(100,105,84,105,90,99,90,95,94,100,79,112,91,80,85)\n",
    "\n",
    "points(x2, y2, col=\"blue\", lwd=5)"
   ]
  },
  {
   "cell_type": "markdown",
   "id": "461b79e5-4119-4e25-8ef7-c6658a8e8a21",
   "metadata": {},
   "source": [
    "### R Pie Charts\n",
    "##### La función pie() permite crear diagramas circulares, de la siguiente forma:"
   ]
  },
  {
   "cell_type": "code",
   "execution_count": 248,
   "id": "69b24d19-a536-4278-bb8f-3b09abe6927c",
   "metadata": {},
   "outputs": [
    {
     "data": {
      "image/png": "[encoded data removed]",
      "text/plain": [
       "Plot with title \"Gráfica\""
      ]
     },
     "metadata": {
      "image/png": {
       "height": 420,
       "width": 420
      }
     },
     "output_type": "display_data"
    }
   ],
   "source": [
    "# Crear un vector de porcentajes.\n",
    "x <- c(10,20,30,40)\n",
    "\n",
    "# Crear un vector de etiquetas.\n",
    "etiquetas <- c(\"Manzanas\", \"Peras\", \"Uvas\", \"Piñas\")\n",
    "\n",
    "# Crear un vector de colores.\n",
    "colores <- c(\"red\", \"green\", \"purple\", \"yellow\")\n",
    "\n",
    "# Mostrar el diagrama circular.\n",
    "pie(x, label = etiquetas, main = \"Gráfica\", col = colores)\n",
    "\n",
    "# Mostrar una leyenda.\n",
    "legend(\"bottomright\", etiquetas, fill = colores)\n",
    "\n",
    "# La leyenda puede ubicarse en distintas posiciones: bottomright, bottom, bottomleft, left, topleft, top, topright, right, center."
   ]
  },
  {
   "cell_type": "markdown",
   "id": "b7ace98d-31a2-4805-8e1c-325b4cc5ed16",
   "metadata": {},
   "source": [
    "### R Bars\n",
    "##### La función barplot() permite crear diagramas de barras, de la siguiente forma:"
   ]
  },
  {
   "cell_type": "code",
   "execution_count": 251,
   "id": "1178c1d4-6e3f-4162-83a0-09c4564483c3",
   "metadata": {},
   "outputs": [
    {
     "data": {
      "image/png": "[encoded data removed]",
      "text/plain": [
       "Plot with title \"Gráfica\""
      ]
     },
     "metadata": {
      "image/png": {
       "height": 420,
       "width": 420
      }
     },
     "output_type": "display_data"
    },
    {
     "data": {
      "image/png": "[encoded data removed]",
      "text/plain": [
       "Plot with title \"Gráfica\""
      ]
     },
     "metadata": {
      "image/png": {
       "height": 420,
       "width": 420
      }
     },
     "output_type": "display_data"
    }
   ],
   "source": [
    "# Crear un vector de etiquetas.\n",
    "x <- c(\"A\", \"B\", \"C\", \"D\")\n",
    "\n",
    "# Crear un vector de cantidades.\n",
    "y <- c(2, 4, 6, 8)\n",
    "\n",
    "# El parámetro 'width' modifica el grosor de las barras del diagrama.\n",
    "# El parámetro 'col' modifica el color de las barras.\n",
    "barplot(y, names.arg = x, width = c(1,2,3,4), col = \"blue\", main = \"Gráfica\")\n",
    "\n",
    "# El parámetro 'horiz' modifica la presentación de las barras. Será horizontal si se le asigna TRUE.\n",
    "# El parámetro 'density' modifica la textura de las barras.\n",
    "barplot(y, names.arg = x, horiz = TRUE, density = 10, main = \"Gráfica\")\n",
    "\n",
    "# Al igual que las demás gráficas, los parámetros 'xlab' y 'ylab' modifican los títulos de los ejes del gráfico."
   ]
  },
  {
   "cell_type": "markdown",
   "id": "417a57d4-0d68-460c-8403-a3fc057fd688",
   "metadata": {},
   "source": [
    "## Ejercicios en R\n",
    "### Ejercicio 1 - Calcular la media de calificaciones de un conjunto de estudiantes."
   ]
  },
  {
   "cell_type": "code",
   "execution_count": 254,
   "id": "4a9c571a-22fd-43a3-b174-a0a6d513d224",
   "metadata": {},
   "outputs": [
    {
     "name": "stdout",
     "output_type": "stream",
     "text": [
      "[1] \"Promedios de los Estudiantes del Curso\"\n",
      "[1] \"Juan - 19.33\"\n",
      "[1] \"María - 17.67\"\n",
      "[1] \"Luis - 16.67\"\n",
      "[1] \"Pedro - 10.33\"\n",
      "[1] \"José - 12.67\"\n",
      "[1] \"Mateo - 18\"\n",
      "[1] \"Alberto - 16.33\"\n",
      "[1] \"Luisa - 12.33\"\n",
      "[1] \"El promedio del curso es de 15.42 puntos.\"\n"
     ]
    },
    {
     "data": {
      "image/png": "[encoded data removed]",
      "text/plain": [
       "Plot with title \"Calificaciones de los Estudiantes del Curso\""
      ]
     },
     "metadata": {
      "image/png": {
       "height": 420,
       "width": 420
      }
     },
     "output_type": "display_data"
    }
   ],
   "source": [
    "nombres <- list(\"Juan\", \"María\", \"Luis\", \"Pedro\", \"José\", \"Mateo\", \"Alberto\", \"Luisa\")\n",
    "notas <- list(c(19, 20, 19), c(17, 20, 16), c(13, 20, 17), c(10, 10, 11), c(14, 13, 11), c(19, 18, 17), c(16, 14, 19), c(12, 10, 15))\n",
    "promedios <- numeric(length(notas))\n",
    "\n",
    "# Calcular promedios individuales.\n",
    "for (i in seq_along(notas)) { # La función 'seq_along()' recorre las posiciones de un iterable.\n",
    "    sumatoria <- sum(notas[[i]])  # Sumar las notas del registro. La función 'sum()' permite calcular la sumatoria de los elementos de un iterable numérico.\n",
    "    promedio <- sumatoria / length(notas[[i]])  # Calcular el promedio.\n",
    "    promedios[i] <- promedio  # Guardar el promedio en el vector.\n",
    "}\n",
    "\n",
    "# Calcular el promedio del curso.\n",
    "promediocurso <- mean(promedios)  # La función 'mean()' permite calcular la media de los elementos de un iterable numérico.\n",
    "\n",
    "# Mostrar los promedios de los estudiantes.\n",
    "print(\"Promedios de los Estudiantes del Curso\")\n",
    "for (i in seq_along(promedios)) {\n",
    "    print(paste(nombres[i], \"-\", round(promedios[i], 2))) # La función 'round()' redondea valores numéricos. En este caso a dos decimales.\n",
    "}\n",
    "\n",
    "# Mostrar un diagrama de barras de los resultados.\n",
    "barplot(promedios, names.arg = nombres, main = \"Calificaciones de los Estudiantes del Curso\", xlab = \"Estudiantes\", ylab = \"Promedio de calificaciones\", col = \"green\")\n",
    "\n",
    "# Mostrar el promedio del curso.\n",
    "print(paste(\"El promedio del curso es de\", round(promediocurso, 2), \"puntos.\"))"
   ]
  },
  {
   "cell_type": "markdown",
   "id": "2aca8baa-8925-4ce5-bd26-f4214d4065e6",
   "metadata": {},
   "source": [
    "### Ejercicio 2 - Resolver un sistema de ecuaciones por eliminación de Gauss Jordan."
   ]
  },
  {
   "cell_type": "code",
   "execution_count": 266,
   "id": "5266071c-4d64-48fc-9a55-e7773929029b",
   "metadata": {},
   "outputs": [
    {
     "name": "stdout",
     "output_type": "stream",
     "text": [
      "[1] \"La solución del sistema de ecuaciones es:\"\n",
      "[1] \"X = 2\"\n",
      "[1] \"X = 3\"\n",
      "[1] \"X = -1\"\n"
     ]
    }
   ],
   "source": [
    "# Función para ejecutar la eliminación de Gauss-Jordan.\n",
    "gauss_jordan <- function(A, b) {\n",
    "  # Combina la matriz A y el vector b en una matriz aumentada.\n",
    "  Ab <- cbind(A, b)\n",
    "  \n",
    "  # Número de filas.\n",
    "  n <- nrow(Ab)\n",
    "  \n",
    "  # Aplicar el método de Gauss-Jordan.\n",
    "  for (i in 1:n) {\n",
    "    # Hacer que el elemento diagonal sea 1.\n",
    "    Ab[i, ] <- Ab[i, ] / Ab[i, i]\n",
    "    \n",
    "    # Hacer que los elementos en la columna i sean 0.\n",
    "    for (j in 1:n) {\n",
    "      if (j != i) {\n",
    "        Ab[j, ] <- Ab[j, ] - Ab[j, i] * Ab[i, ]\n",
    "      }\n",
    "    }\n",
    "  }\n",
    "  \n",
    "  # La solución se encuentra en la última columna de la matriz aumentada.\n",
    "  return(Ab[, ncol(Ab)])\n",
    "}\n",
    "\n",
    "# Definimos la matriz de coeficientes 'A'.\n",
    "A <- matrix(c(2, 1, -1,\n",
    "              -3, -1, 2,\n",
    "              -2, 1, 2), nrow = 3, byrow = TRUE) # El parámetro 'byrow' con valor TRUE establece que el llenado de la matriz debe hacerse por filas. Si es FALSE, el llenado se hará por columnas.\n",
    "\n",
    "# Definimos el vector de términos independientes 'b'.\n",
    "b <- c(8, -11, -3)\n",
    "\n",
    "# Invocamos a la función para resolver el sistema.\n",
    "solucion <- gauss_jordan(A, b)\n",
    "\n",
    "# Mostramos la solución.\n",
    "print(\"La solución del sistema de ecuaciones es:\")\n",
    "for (i in 1:length(solucion)) {\n",
    "    print(paste(\"X =\", solucion[i]))\n",
    "}"
   ]
  },
  {
   "cell_type": "markdown",
   "id": "7073c644-017f-4989-9b30-16db1005708f",
   "metadata": {},
   "source": [
    "## Información Adicional sobre Métodos Estadísticos en R\n",
    "#### https://www.w3schools.com/r/r_stat_intro.asp"
   ]
  }
 ],
 "metadata": {
  "kernelspec": {
   "display_name": "R",
   "language": "R",
   "name": "ir"
  },
  "language_info": {
   "codemirror_mode": "r",
   "file_extension": ".r",
   "mimetype": "text/x-r-source",
   "name": "R",
   "pygments_lexer": "r",
   "version": "4.4.2"
  }
 },
 "nbformat": 4,
 "nbformat_minor": 5
}
